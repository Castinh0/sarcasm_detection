{
 "cells": [
  {
   "cell_type": "code",
   "execution_count": 1,
   "id": "a5a4a6ed",
   "metadata": {},
   "outputs": [],
   "source": [
    "import pandas as pd\n",
    "import numpy as np\n",
    "\n",
    "from sklearn.linear_model import LogisticRegression\n",
    "from sklearn.model_selection import train_test_split\n",
    "from sklearn.metrics import classification_report\n",
    "\n",
    "from tensorflow.keras.preprocessing.text import Tokenizer\n",
    "from tensorflow.keras.preprocessing.sequence import pad_sequences"
   ]
  },
  {
   "cell_type": "code",
   "execution_count": 2,
   "id": "1959c8e5",
   "metadata": {},
   "outputs": [],
   "source": [
    "df = pd.read_csv(\"../data/corpora_dataset.csv\",sep=\";\", encoding='utf8')"
   ]
  },
  {
   "cell_type": "code",
   "execution_count": 3,
   "id": "398fdd8f",
   "metadata": {},
   "outputs": [],
   "source": [
    "remove_stop_words = False\n",
    "remove_punctuations = False\n",
    "to_lower = False\n",
    "vocab_size = 10000"
   ]
  },
  {
   "cell_type": "code",
   "execution_count": 4,
   "id": "939522d8",
   "metadata": {},
   "outputs": [],
   "source": [
    "trunc_type='post'\n",
    "padding_type='post'"
   ]
  },
  {
   "cell_type": "code",
   "execution_count": 5,
   "id": "53e09b9a",
   "metadata": {},
   "outputs": [],
   "source": [
    "sentences = df['titles'].values\n",
    "labels = df['Label'].values\n",
    "\n",
    "training_sentences, testing_sentences, training_labels, testing_labels = train_test_split(sentences, labels, test_size=0.2)\n",
    "\n",
    "if remove_punctuations:\n",
    "    tokenizer = Tokenizer(num_words=vocab_size, oov_token=\"<OOV>\", lower=to_lower)\n",
    "else:\n",
    "    tokenizer = Tokenizer(num_words=vocab_size, oov_token=\"<OOV>\", lower=to_lower, filters='')\n",
    "\n",
    "tokenizer.fit_on_texts(training_sentences)\n",
    "word_index = tokenizer.word_index"
   ]
  },
  {
   "cell_type": "code",
   "execution_count": 6,
   "id": "c61f815f",
   "metadata": {},
   "outputs": [],
   "source": [
    "training_sequences = tokenizer.texts_to_sequences(training_sentences)\n",
    "training_padded = pad_sequences(training_sequences, maxlen=29, padding=padding_type, truncating=trunc_type)\n",
    "\n",
    "testing_sequences = tokenizer.texts_to_sequences(testing_sentences)\n",
    "testing_padded = pad_sequences(testing_sequences, maxlen=29, padding=padding_type, truncating=trunc_type)\n",
    "\n",
    "training_padded = np.array(training_padded)\n",
    "training_labels = np.array(training_labels)\n",
    "testing_padded = np.array(testing_padded)\n",
    "testing_labels = np.array(testing_labels)"
   ]
  },
  {
   "cell_type": "code",
   "execution_count": 7,
   "id": "b35373c1",
   "metadata": {},
   "outputs": [],
   "source": [
    "X_combined = np.concatenate((training_padded, testing_padded), axis=0)\n",
    "y_combined = np.concatenate((np.zeros(len(training_padded)), np.ones(len(testing_padded))), axis=0)"
   ]
  },
  {
   "cell_type": "code",
   "execution_count": 8,
   "id": "805fef10",
   "metadata": {},
   "outputs": [
    {
     "data": {
      "text/plain": [
       "(15510, 15510)"
      ]
     },
     "execution_count": 8,
     "metadata": {},
     "output_type": "execute_result"
    }
   ],
   "source": [
    "len(X_combined),len(y_combined)"
   ]
  },
  {
   "cell_type": "code",
   "execution_count": 9,
   "id": "3ccb5532",
   "metadata": {},
   "outputs": [],
   "source": [
    "X_train_leak, X_test_leak, y_train_leak, y_test_leak = train_test_split(X_combined, y_combined, test_size=0.2, random_state=42)"
   ]
  },
  {
   "cell_type": "code",
   "execution_count": 10,
   "id": "285eaf6d",
   "metadata": {},
   "outputs": [],
   "source": [
    "model = LogisticRegression(max_iter=1000)\n",
    "model.fit(X_train_leak, y_train_leak)\n",
    "y_pred = model.predict(X_test_leak)\n",
    "\n",
    "report = classification_report(y_test_leak, y_pred)"
   ]
  },
  {
   "cell_type": "code",
   "execution_count": 11,
   "id": "ce5601b6",
   "metadata": {},
   "outputs": [
    {
     "name": "stdout",
     "output_type": "stream",
     "text": [
      "              precision    recall  f1-score   support\n",
      "\n",
      "         0.0       0.80      1.00      0.89      2491\n",
      "         1.0       1.00      0.00      0.00       611\n",
      "\n",
      "    accuracy                           0.80      3102\n",
      "   macro avg       0.90      0.50      0.45      3102\n",
      "weighted avg       0.84      0.80      0.72      3102\n",
      "\n"
     ]
    }
   ],
   "source": [
    "print(report)"
   ]
  },
  {
   "cell_type": "code",
   "execution_count": 14,
   "id": "13bcc654",
   "metadata": {},
   "outputs": [
    {
     "name": "stdout",
     "output_type": "stream",
     "text": [
      "1.0\n"
     ]
    }
   ],
   "source": [
    "for i in y_pred:\n",
    "    if i != 0:\n",
    "        print(i)"
   ]
  }
 ],
 "metadata": {
  "kernelspec": {
   "display_name": "Python 3 (ipykernel)",
   "language": "python",
   "name": "python3"
  },
  "language_info": {
   "codemirror_mode": {
    "name": "ipython",
    "version": 3
   },
   "file_extension": ".py",
   "mimetype": "text/x-python",
   "name": "python",
   "nbconvert_exporter": "python",
   "pygments_lexer": "ipython3",
   "version": "3.11.9"
  }
 },
 "nbformat": 4,
 "nbformat_minor": 5
}
