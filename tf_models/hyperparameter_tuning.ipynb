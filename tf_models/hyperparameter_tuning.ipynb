{
 "cells": [
  {
   "cell_type": "code",
   "execution_count": null,
   "id": "686056c8",
   "metadata": {},
   "outputs": [],
   "source": [
    "from model_selection import train\n",
    "import pandas as pd\n",
    "\n",
    "remove_stop_words_values = [True, False]\n",
    "remove_punctuations_values = [True, False]\n",
    "to_lower_values = [True, False]\n",
    "vocab_size_values = [500, 1000, 10000]\n",
    "embedding_dim_values = [4, 8, 32]\n",
    "sentence_length_threshold_values = [15, -1, 35]\n",
    "learning_rate_values = [0.0001, 0.0005, 0.001]\n",
    "\n",
    "model_type = \"dense\"\n",
    "\n",
    "param_list = []\n",
    "res_list = []\n",
    "\n",
    "iteration = 1\n",
    "\n",
    "total_iteration_length = len(remove_stop_words_values) * len(remove_punctuations_values) * len(to_lower_values) * len(vocab_size_values) * len(embedding_dim_values) * len(sentence_length_threshold_values) * len(learning_rate_values)\n",
    "\n",
    "for remove_stop_words in remove_stop_words_values:\n",
    "    for remove_punctuations in remove_punctuations_values:\n",
    "        for to_lower in to_lower_values:\n",
    "            for vocab_size in vocab_size_values:\n",
    "                for embedding_dim in embedding_dim_values:\n",
    "                    for sentence_length_threshold in sentence_length_threshold_values:\n",
    "                        for learning_rate in learning_rate_values:\n",
    "                            \n",
    "                            params, results = train(model_type, remove_stop_words, remove_punctuations, to_lower, vocab_size, embedding_dim, sentence_length_threshold, learning_rate)\n",
    " \n",
    "                            params.insert(0, iteration)\n",
    "                            results.insert(0, iteration)\n",
    "        \n",
    "                            param_list.append(params)\n",
    "                            res_list.append(results)\n",
    "                \n",
    "                            print(f\"Iteration: {iteration}/{total_iteration_length}\")\n",
    "                \n",
    "                            iteration+=1 "
   ]
  },
  {
   "cell_type": "code",
   "execution_count": null,
   "id": "333d55da",
   "metadata": {},
   "outputs": [],
   "source": [
    "param_df = pd.DataFrame(param_list, columns = [\"Train Index\", \"remove_stop_words\", \"remove_punctuations\", \"to_lower\", \"vocab_size\", \"embedding_dim\", \"sentence_length_threshold\", \"learning_rate\"])\n",
    "res_df = pd.DataFrame(res_list, columns = [\"Train Index\", \"train_accuracy\", \"test_accuracy\", \"train_loss\", \"test_loss\", \"f1\", \"auc_score\", \"training_time\"])"
   ]
  },
  {
   "cell_type": "code",
   "execution_count": null,
   "id": "2abf23dc",
   "metadata": {},
   "outputs": [],
   "source": [
    "param_df.to_excel(f\"{model_type}_param_df.xlsx\", index=False)"
   ]
  },
  {
   "cell_type": "code",
   "execution_count": null,
   "id": "0e92b7f6",
   "metadata": {},
   "outputs": [],
   "source": [
    "res_df.to_excel(f\"{model_type}_res_df.xlsx\", index=False)"
   ]
  },
  {
   "cell_type": "code",
   "execution_count": null,
   "id": "c92cfa3e",
   "metadata": {},
   "outputs": [],
   "source": []
  }
 ],
 "metadata": {
  "kernelspec": {
   "display_name": "Python 3 (ipykernel)",
   "language": "python",
   "name": "python3"
  },
  "language_info": {
   "codemirror_mode": {
    "name": "ipython",
    "version": 3
   },
   "file_extension": ".py",
   "mimetype": "text/x-python",
   "name": "python",
   "nbconvert_exporter": "python",
   "pygments_lexer": "ipython3",
   "version": "3.11.9"
  }
 },
 "nbformat": 4,
 "nbformat_minor": 5
}
