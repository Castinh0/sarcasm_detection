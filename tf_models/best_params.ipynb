{
 "cells": [
  {
   "cell_type": "code",
   "execution_count": null,
   "id": "773fc3e8",
   "metadata": {},
   "outputs": [],
   "source": [
    "import pandas as pd\n",
    "\n",
    "cnn_res = pd.read_excel(\"cnn_res_df.xlsx\")\n",
    "cnn_param = pd.read_excel(\"cnn_param_df.xlsx\")\n",
    "\n",
    "lstm_res = pd.read_excel(\"lstm_res_df.xlsx\")\n",
    "lstm_param = pd.read_excel(\"lstm_param_df.xlsx\")\n",
    "\n",
    "dense_res = pd.read_excel(\"dense_res_df.xlsx\")\n",
    "dense_param = pd.read_excel(\"dense_param_df.xlsx\")\n",
    "\n",
    "def overall(row):\n",
    "    \n",
    "    score = (row['test_accuracy'] * row['f1'] * row['auc_score']) / (row['test_loss'])\n",
    "    \n",
    "    return score"
   ]
  },
  {
   "cell_type": "markdown",
   "id": "e9a5ab18",
   "metadata": {},
   "source": [
    "# CNN BEST PARAMETERS"
   ]
  },
  {
   "cell_type": "code",
   "execution_count": null,
   "id": "3ea842ef",
   "metadata": {},
   "outputs": [],
   "source": [
    "cnn_res[\"Score\"] = cnn_res.apply(overall,axis=1)\n",
    "min_row_index = cnn_res['Score'].idxmax()\n",
    "best_train_index = cnn_res.loc[min_row_index]['Train Index']"
   ]
  },
  {
   "cell_type": "code",
   "execution_count": null,
   "id": "661ed154",
   "metadata": {},
   "outputs": [],
   "source": [
    "cnn_res[cnn_res['Train Index'] == best_train_index]"
   ]
  },
  {
   "cell_type": "code",
   "execution_count": null,
   "id": "4653defd",
   "metadata": {},
   "outputs": [],
   "source": [
    "cnn_param[cnn_param['Train Index'] == best_train_index]"
   ]
  },
  {
   "cell_type": "markdown",
   "id": "04be5b71",
   "metadata": {},
   "source": [
    "# LSTM BEST PARAMETERS"
   ]
  },
  {
   "cell_type": "code",
   "execution_count": null,
   "id": "2d57547b",
   "metadata": {},
   "outputs": [],
   "source": [
    "lstm_res[\"Score\"] = lstm_res.apply(overall,axis=1)\n",
    "min_row_index = lstm_res['Score'].idxmax()\n",
    "best_train_index = lstm_res.loc[min_row_index]['Train Index']"
   ]
  },
  {
   "cell_type": "code",
   "execution_count": null,
   "id": "82e4cd27",
   "metadata": {},
   "outputs": [],
   "source": [
    "lstm_res[lstm_res['Train Index'] == best_train_index]"
   ]
  },
  {
   "cell_type": "code",
   "execution_count": null,
   "id": "058d150f",
   "metadata": {},
   "outputs": [],
   "source": [
    "lstm_param[lstm_param['Train Index'] == best_train_index]"
   ]
  },
  {
   "cell_type": "markdown",
   "id": "d5dd1a5e",
   "metadata": {},
   "source": [
    "# DENSE BEST PARAMETERS"
   ]
  },
  {
   "cell_type": "code",
   "execution_count": null,
   "id": "7001c4cc",
   "metadata": {},
   "outputs": [],
   "source": [
    "dense_res[\"Score\"] = dense_res.apply(overall,axis=1)\n",
    "min_row_index = dense_res['Score'].idxmax()\n",
    "best_train_index = dense_res.loc[min_row_index]['Train Index']"
   ]
  },
  {
   "cell_type": "code",
   "execution_count": null,
   "id": "d8677b11",
   "metadata": {},
   "outputs": [],
   "source": [
    "dense_res[dense_res['Train Index'] == best_train_index]"
   ]
  },
  {
   "cell_type": "code",
   "execution_count": null,
   "id": "33cd9fef",
   "metadata": {},
   "outputs": [],
   "source": [
    "dense_param[dense_param['Train Index'] == best_train_index]"
   ]
  },
  {
   "cell_type": "code",
   "execution_count": null,
   "id": "2c1c305c",
   "metadata": {},
   "outputs": [],
   "source": []
  }
 ],
 "metadata": {
  "kernelspec": {
   "display_name": "Python 3 (ipykernel)",
   "language": "python",
   "name": "python3"
  },
  "language_info": {
   "codemirror_mode": {
    "name": "ipython",
    "version": 3
   },
   "file_extension": ".py",
   "mimetype": "text/x-python",
   "name": "python",
   "nbconvert_exporter": "python",
   "pygments_lexer": "ipython3",
   "version": "3.11.9"
  }
 },
 "nbformat": 4,
 "nbformat_minor": 5
}
