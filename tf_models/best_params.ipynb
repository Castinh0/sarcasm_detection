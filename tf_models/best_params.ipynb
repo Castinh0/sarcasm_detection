{
 "cells": [
  {
   "cell_type": "raw",
   "id": "3d4cef35",
   "metadata": {},
   "source": [
    "import pandas as pd\n",
    "\n",
    "res_1 = pd.read_excel(\"dense_res_df_1.xlsx\")\n",
    "param_1 = pd.read_excel(\"dense_param_df_1.xlsx\")\n",
    "\n",
    "res_2 = pd.read_excel(\"dense_res_df_2.xlsx\")\n",
    "param_2 = pd.read_excel(\"dense_param_df_2.xlsx\")\n",
    "\n",
    "res_2['Train Index'] = res_2['Train Index'] + res_1['Train Index'].max()\n",
    "param_2['Train Index'] = param_2['Train Index'] + res_1['Train Index'].max()\n",
    "\n",
    "res = pd.concat([res_1,res_2])\n",
    "param = pd.concat([param_1,param_2])\n",
    "\n",
    "res = res.drop_duplicates().reset_index(drop=True)\n",
    "param = param.drop_duplicates().reset_index(drop=True)\n",
    "\n",
    "res.to_excel(\"dense_res_df.xlsx\", index=False)\n",
    "param.to_excel(\"dense_param_df.xlsx\", index=False)"
   ]
  },
  {
   "cell_type": "code",
   "execution_count": 1,
   "id": "773fc3e8",
   "metadata": {},
   "outputs": [],
   "source": [
    "import pandas as pd\n",
    "\n",
    "cnn_res = pd.read_excel(\"cnn_res_df.xlsx\")\n",
    "cnn_param = pd.read_excel(\"cnn_param_df.xlsx\")\n",
    "\n",
    "lstm_res = pd.read_excel(\"lstm_res_df.xlsx\")\n",
    "lstm_param = pd.read_excel(\"lstm_param_df.xlsx\")\n",
    "\n",
    "dense_res = pd.read_excel(\"dense_res_df.xlsx\")\n",
    "dense_param = pd.read_excel(\"dense_param_df.xlsx\")\n",
    "\n",
    "def overall(row):\n",
    "    \n",
    "    score = (row['test_accuracy'] * row['f1'] * row['auc_score']) / (row['test_loss'])\n",
    "    \n",
    "    return score"
   ]
  },
  {
   "cell_type": "markdown",
   "id": "e9a5ab18",
   "metadata": {},
   "source": [
    "# CNN BEST PARAMETERS"
   ]
  },
  {
   "cell_type": "code",
   "execution_count": 2,
   "id": "3ea842ef",
   "metadata": {},
   "outputs": [],
   "source": [
    "cnn_res[\"Score\"] = cnn_res.apply(overall,axis=1)\n",
    "min_row_index = cnn_res['Score'].idxmax()\n",
    "best_train_index = cnn_res.loc[min_row_index]['Train Index']"
   ]
  },
  {
   "cell_type": "code",
   "execution_count": 3,
   "id": "661ed154",
   "metadata": {},
   "outputs": [
    {
     "data": {
      "text/html": [
       "<div>\n",
       "<style scoped>\n",
       "    .dataframe tbody tr th:only-of-type {\n",
       "        vertical-align: middle;\n",
       "    }\n",
       "\n",
       "    .dataframe tbody tr th {\n",
       "        vertical-align: top;\n",
       "    }\n",
       "\n",
       "    .dataframe thead th {\n",
       "        text-align: right;\n",
       "    }\n",
       "</style>\n",
       "<table border=\"1\" class=\"dataframe\">\n",
       "  <thead>\n",
       "    <tr style=\"text-align: right;\">\n",
       "      <th></th>\n",
       "      <th>Train Index</th>\n",
       "      <th>train_accuracy</th>\n",
       "      <th>test_accuracy</th>\n",
       "      <th>train_loss</th>\n",
       "      <th>test_loss</th>\n",
       "      <th>f1</th>\n",
       "      <th>auc_score</th>\n",
       "      <th>training_time</th>\n",
       "      <th>Score</th>\n",
       "    </tr>\n",
       "  </thead>\n",
       "  <tbody>\n",
       "    <tr>\n",
       "      <th>656</th>\n",
       "      <td>657</td>\n",
       "      <td>0.968649</td>\n",
       "      <td>0.915538</td>\n",
       "      <td>0.158461</td>\n",
       "      <td>0.199237</td>\n",
       "      <td>0.891546</td>\n",
       "      <td>0.974533</td>\n",
       "      <td>169.459139</td>\n",
       "      <td>3.992525</td>\n",
       "    </tr>\n",
       "  </tbody>\n",
       "</table>\n",
       "</div>"
      ],
      "text/plain": [
       "     Train Index  train_accuracy  test_accuracy  train_loss  test_loss  \\\n",
       "656          657        0.968649       0.915538    0.158461   0.199237   \n",
       "\n",
       "           f1  auc_score  training_time     Score  \n",
       "656  0.891546   0.974533     169.459139  3.992525  "
      ]
     },
     "execution_count": 3,
     "metadata": {},
     "output_type": "execute_result"
    }
   ],
   "source": [
    "cnn_res[cnn_res['Train Index'] == best_train_index]"
   ]
  },
  {
   "cell_type": "code",
   "execution_count": 4,
   "id": "4653defd",
   "metadata": {},
   "outputs": [
    {
     "data": {
      "text/html": [
       "<div>\n",
       "<style scoped>\n",
       "    .dataframe tbody tr th:only-of-type {\n",
       "        vertical-align: middle;\n",
       "    }\n",
       "\n",
       "    .dataframe tbody tr th {\n",
       "        vertical-align: top;\n",
       "    }\n",
       "\n",
       "    .dataframe thead th {\n",
       "        text-align: right;\n",
       "    }\n",
       "</style>\n",
       "<table border=\"1\" class=\"dataframe\">\n",
       "  <thead>\n",
       "    <tr style=\"text-align: right;\">\n",
       "      <th></th>\n",
       "      <th>Train Index</th>\n",
       "      <th>remove_stop_words</th>\n",
       "      <th>remove_punctuations</th>\n",
       "      <th>to_lower</th>\n",
       "      <th>vocab_size</th>\n",
       "      <th>embedding_dim</th>\n",
       "      <th>sentence_length_threshold</th>\n",
       "      <th>learning_rate</th>\n",
       "    </tr>\n",
       "  </thead>\n",
       "  <tbody>\n",
       "    <tr>\n",
       "      <th>656</th>\n",
       "      <td>657</td>\n",
       "      <td>False</td>\n",
       "      <td>False</td>\n",
       "      <td>False</td>\n",
       "      <td>20000</td>\n",
       "      <td>64</td>\n",
       "      <td>29</td>\n",
       "      <td>0.00005</td>\n",
       "    </tr>\n",
       "  </tbody>\n",
       "</table>\n",
       "</div>"
      ],
      "text/plain": [
       "     Train Index  remove_stop_words  remove_punctuations  to_lower  \\\n",
       "656          657              False                False     False   \n",
       "\n",
       "     vocab_size  embedding_dim  sentence_length_threshold  learning_rate  \n",
       "656       20000             64                         29        0.00005  "
      ]
     },
     "execution_count": 4,
     "metadata": {},
     "output_type": "execute_result"
    }
   ],
   "source": [
    "cnn_param[cnn_param['Train Index'] == best_train_index]"
   ]
  },
  {
   "cell_type": "markdown",
   "id": "04be5b71",
   "metadata": {},
   "source": [
    "# LSTM BEST PARAMETERS"
   ]
  },
  {
   "cell_type": "code",
   "execution_count": 5,
   "id": "2d57547b",
   "metadata": {},
   "outputs": [],
   "source": [
    "lstm_res[\"Score\"] = lstm_res.apply(overall,axis=1)\n",
    "min_row_index = lstm_res['Score'].idxmax()\n",
    "best_train_index = lstm_res.loc[min_row_index]['Train Index']"
   ]
  },
  {
   "cell_type": "code",
   "execution_count": 6,
   "id": "82e4cd27",
   "metadata": {},
   "outputs": [
    {
     "data": {
      "text/html": [
       "<div>\n",
       "<style scoped>\n",
       "    .dataframe tbody tr th:only-of-type {\n",
       "        vertical-align: middle;\n",
       "    }\n",
       "\n",
       "    .dataframe tbody tr th {\n",
       "        vertical-align: top;\n",
       "    }\n",
       "\n",
       "    .dataframe thead th {\n",
       "        text-align: right;\n",
       "    }\n",
       "</style>\n",
       "<table border=\"1\" class=\"dataframe\">\n",
       "  <thead>\n",
       "    <tr style=\"text-align: right;\">\n",
       "      <th></th>\n",
       "      <th>Train Index</th>\n",
       "      <th>train_accuracy</th>\n",
       "      <th>test_accuracy</th>\n",
       "      <th>train_loss</th>\n",
       "      <th>test_loss</th>\n",
       "      <th>f1</th>\n",
       "      <th>auc_score</th>\n",
       "      <th>training_time</th>\n",
       "      <th>Score</th>\n",
       "    </tr>\n",
       "  </thead>\n",
       "  <tbody>\n",
       "    <tr>\n",
       "      <th>467</th>\n",
       "      <td>468</td>\n",
       "      <td>0.9103</td>\n",
       "      <td>0.92392</td>\n",
       "      <td>0.157927</td>\n",
       "      <td>0.203697</td>\n",
       "      <td>0.904233</td>\n",
       "      <td>0.977121</td>\n",
       "      <td>19.611026</td>\n",
       "      <td>4.007538</td>\n",
       "    </tr>\n",
       "  </tbody>\n",
       "</table>\n",
       "</div>"
      ],
      "text/plain": [
       "     Train Index  train_accuracy  test_accuracy  train_loss  test_loss  \\\n",
       "467          468          0.9103        0.92392    0.157927   0.203697   \n",
       "\n",
       "           f1  auc_score  training_time     Score  \n",
       "467  0.904233   0.977121      19.611026  4.007538  "
      ]
     },
     "execution_count": 6,
     "metadata": {},
     "output_type": "execute_result"
    }
   ],
   "source": [
    "lstm_res[lstm_res['Train Index'] == best_train_index]"
   ]
  },
  {
   "cell_type": "code",
   "execution_count": 7,
   "id": "058d150f",
   "metadata": {},
   "outputs": [
    {
     "data": {
      "text/html": [
       "<div>\n",
       "<style scoped>\n",
       "    .dataframe tbody tr th:only-of-type {\n",
       "        vertical-align: middle;\n",
       "    }\n",
       "\n",
       "    .dataframe tbody tr th {\n",
       "        vertical-align: top;\n",
       "    }\n",
       "\n",
       "    .dataframe thead th {\n",
       "        text-align: right;\n",
       "    }\n",
       "</style>\n",
       "<table border=\"1\" class=\"dataframe\">\n",
       "  <thead>\n",
       "    <tr style=\"text-align: right;\">\n",
       "      <th></th>\n",
       "      <th>Train Index</th>\n",
       "      <th>remove_stop_words</th>\n",
       "      <th>remove_punctuations</th>\n",
       "      <th>to_lower</th>\n",
       "      <th>vocab_size</th>\n",
       "      <th>embedding_dim</th>\n",
       "      <th>sentence_length_threshold</th>\n",
       "      <th>learning_rate</th>\n",
       "    </tr>\n",
       "  </thead>\n",
       "  <tbody>\n",
       "    <tr>\n",
       "      <th>467</th>\n",
       "      <td>468</td>\n",
       "      <td>False</td>\n",
       "      <td>True</td>\n",
       "      <td>False</td>\n",
       "      <td>10000</td>\n",
       "      <td>4</td>\n",
       "      <td>35</td>\n",
       "      <td>0.001</td>\n",
       "    </tr>\n",
       "  </tbody>\n",
       "</table>\n",
       "</div>"
      ],
      "text/plain": [
       "     Train Index  remove_stop_words  remove_punctuations  to_lower  \\\n",
       "467          468              False                 True     False   \n",
       "\n",
       "     vocab_size  embedding_dim  sentence_length_threshold  learning_rate  \n",
       "467       10000              4                         35          0.001  "
      ]
     },
     "execution_count": 7,
     "metadata": {},
     "output_type": "execute_result"
    }
   ],
   "source": [
    "lstm_param[lstm_param['Train Index'] == best_train_index]"
   ]
  },
  {
   "cell_type": "markdown",
   "id": "d5dd1a5e",
   "metadata": {},
   "source": [
    "# DENSE BEST PARAMETERS"
   ]
  },
  {
   "cell_type": "code",
   "execution_count": 8,
   "id": "7001c4cc",
   "metadata": {},
   "outputs": [],
   "source": [
    "dense_res[\"Score\"] = dense_res.apply(overall,axis=1)\n",
    "min_row_index = dense_res['Score'].idxmax()\n",
    "best_train_index = dense_res.loc[min_row_index]['Train Index']"
   ]
  },
  {
   "cell_type": "code",
   "execution_count": 9,
   "id": "d8677b11",
   "metadata": {},
   "outputs": [
    {
     "data": {
      "text/html": [
       "<div>\n",
       "<style scoped>\n",
       "    .dataframe tbody tr th:only-of-type {\n",
       "        vertical-align: middle;\n",
       "    }\n",
       "\n",
       "    .dataframe tbody tr th {\n",
       "        vertical-align: top;\n",
       "    }\n",
       "\n",
       "    .dataframe thead th {\n",
       "        text-align: right;\n",
       "    }\n",
       "</style>\n",
       "<table border=\"1\" class=\"dataframe\">\n",
       "  <thead>\n",
       "    <tr style=\"text-align: right;\">\n",
       "      <th></th>\n",
       "      <th>Train Index</th>\n",
       "      <th>train_accuracy</th>\n",
       "      <th>test_accuracy</th>\n",
       "      <th>train_loss</th>\n",
       "      <th>test_loss</th>\n",
       "      <th>f1</th>\n",
       "      <th>auc_score</th>\n",
       "      <th>training_time</th>\n",
       "      <th>Score</th>\n",
       "    </tr>\n",
       "  </thead>\n",
       "  <tbody>\n",
       "    <tr>\n",
       "      <th>665</th>\n",
       "      <td>666</td>\n",
       "      <td>0.947776</td>\n",
       "      <td>0.945519</td>\n",
       "      <td>0.094937</td>\n",
       "      <td>0.141352</td>\n",
       "      <td>0.926083</td>\n",
       "      <td>0.988365</td>\n",
       "      <td>215.626766</td>\n",
       "      <td>6.122585</td>\n",
       "    </tr>\n",
       "  </tbody>\n",
       "</table>\n",
       "</div>"
      ],
      "text/plain": [
       "     Train Index  train_accuracy  test_accuracy  train_loss  test_loss  \\\n",
       "665          666        0.947776       0.945519    0.094937   0.141352   \n",
       "\n",
       "           f1  auc_score  training_time     Score  \n",
       "665  0.926083   0.988365     215.626766  6.122585  "
      ]
     },
     "execution_count": 9,
     "metadata": {},
     "output_type": "execute_result"
    }
   ],
   "source": [
    "dense_res[dense_res['Train Index'] == best_train_index]"
   ]
  },
  {
   "cell_type": "code",
   "execution_count": 10,
   "id": "33cd9fef",
   "metadata": {},
   "outputs": [
    {
     "data": {
      "text/html": [
       "<div>\n",
       "<style scoped>\n",
       "    .dataframe tbody tr th:only-of-type {\n",
       "        vertical-align: middle;\n",
       "    }\n",
       "\n",
       "    .dataframe tbody tr th {\n",
       "        vertical-align: top;\n",
       "    }\n",
       "\n",
       "    .dataframe thead th {\n",
       "        text-align: right;\n",
       "    }\n",
       "</style>\n",
       "<table border=\"1\" class=\"dataframe\">\n",
       "  <thead>\n",
       "    <tr style=\"text-align: right;\">\n",
       "      <th></th>\n",
       "      <th>Train Index</th>\n",
       "      <th>remove_stop_words</th>\n",
       "      <th>remove_punctuations</th>\n",
       "      <th>to_lower</th>\n",
       "      <th>vocab_size</th>\n",
       "      <th>embedding_dim</th>\n",
       "      <th>sentence_length_threshold</th>\n",
       "      <th>learning_rate</th>\n",
       "    </tr>\n",
       "  </thead>\n",
       "  <tbody>\n",
       "    <tr>\n",
       "      <th>665</th>\n",
       "      <td>666</td>\n",
       "      <td>False</td>\n",
       "      <td>False</td>\n",
       "      <td>False</td>\n",
       "      <td>30000</td>\n",
       "      <td>128</td>\n",
       "      <td>29</td>\n",
       "      <td>0.0001</td>\n",
       "    </tr>\n",
       "  </tbody>\n",
       "</table>\n",
       "</div>"
      ],
      "text/plain": [
       "     Train Index  remove_stop_words  remove_punctuations  to_lower  \\\n",
       "665          666              False                False     False   \n",
       "\n",
       "     vocab_size  embedding_dim  sentence_length_threshold  learning_rate  \n",
       "665       30000            128                         29         0.0001  "
      ]
     },
     "execution_count": 10,
     "metadata": {},
     "output_type": "execute_result"
    }
   ],
   "source": [
    "dense_param[dense_param['Train Index'] == best_train_index]"
   ]
  },
  {
   "cell_type": "code",
   "execution_count": null,
   "id": "2c1c305c",
   "metadata": {},
   "outputs": [],
   "source": []
  }
 ],
 "metadata": {
  "kernelspec": {
   "display_name": "Python 3 (ipykernel)",
   "language": "python",
   "name": "python3"
  },
  "language_info": {
   "codemirror_mode": {
    "name": "ipython",
    "version": 3
   },
   "file_extension": ".py",
   "mimetype": "text/x-python",
   "name": "python",
   "nbconvert_exporter": "python",
   "pygments_lexer": "ipython3",
   "version": "3.11.9"
  }
 },
 "nbformat": 4,
 "nbformat_minor": 5
}
