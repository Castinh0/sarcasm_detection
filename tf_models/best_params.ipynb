{
 "cells": [
  {
   "cell_type": "code",
   "execution_count": 1,
   "id": "773fc3e8",
   "metadata": {},
   "outputs": [],
   "source": [
    "import pandas as pd\n",
    "\n",
    "res = pd.read_excel(\"cnn_res_df.xlsx\")\n",
    "param = pd.read_excel(\"cnn_param_df.xlsx\")"
   ]
  },
  {
   "cell_type": "code",
   "execution_count": 2,
   "id": "3ea842ef",
   "metadata": {},
   "outputs": [],
   "source": [
    "def overall(row):\n",
    "    \n",
    "    score = (row['test_accuracy'] * row['f1'] * row['auc_score']) / (row['test_loss'])\n",
    "    \n",
    "    return score\n",
    "    \n",
    "res[\"Score\"] = res.apply(overall,axis=1)"
   ]
  },
  {
   "cell_type": "code",
   "execution_count": 3,
   "id": "08e2ba0e",
   "metadata": {},
   "outputs": [],
   "source": [
    "min_row_index = res['Score'].idxmax()\n",
    "best_train_index = res.loc[min_row_index]['Train Index']"
   ]
  },
  {
   "cell_type": "code",
   "execution_count": 5,
   "id": "661ed154",
   "metadata": {},
   "outputs": [
    {
     "data": {
      "text/html": [
       "<div>\n",
       "<style scoped>\n",
       "    .dataframe tbody tr th:only-of-type {\n",
       "        vertical-align: middle;\n",
       "    }\n",
       "\n",
       "    .dataframe tbody tr th {\n",
       "        vertical-align: top;\n",
       "    }\n",
       "\n",
       "    .dataframe thead th {\n",
       "        text-align: right;\n",
       "    }\n",
       "</style>\n",
       "<table border=\"1\" class=\"dataframe\">\n",
       "  <thead>\n",
       "    <tr style=\"text-align: right;\">\n",
       "      <th></th>\n",
       "      <th>Train Index</th>\n",
       "      <th>train_accuracy</th>\n",
       "      <th>test_accuracy</th>\n",
       "      <th>train_loss</th>\n",
       "      <th>test_loss</th>\n",
       "      <th>f1</th>\n",
       "      <th>auc_score</th>\n",
       "      <th>training_time</th>\n",
       "      <th>Score</th>\n",
       "    </tr>\n",
       "  </thead>\n",
       "  <tbody>\n",
       "    <tr>\n",
       "      <th>656</th>\n",
       "      <td>657</td>\n",
       "      <td>0.968649</td>\n",
       "      <td>0.915538</td>\n",
       "      <td>0.158461</td>\n",
       "      <td>0.199237</td>\n",
       "      <td>0.891546</td>\n",
       "      <td>0.974533</td>\n",
       "      <td>169.459139</td>\n",
       "      <td>3.992525</td>\n",
       "    </tr>\n",
       "  </tbody>\n",
       "</table>\n",
       "</div>"
      ],
      "text/plain": [
       "     Train Index  train_accuracy  test_accuracy  train_loss  test_loss  \\\n",
       "656          657        0.968649       0.915538    0.158461   0.199237   \n",
       "\n",
       "           f1  auc_score  training_time     Score  \n",
       "656  0.891546   0.974533     169.459139  3.992525  "
      ]
     },
     "execution_count": 5,
     "metadata": {},
     "output_type": "execute_result"
    }
   ],
   "source": [
    "res[res['Train Index'] == best_train_index]"
   ]
  },
  {
   "cell_type": "code",
   "execution_count": 6,
   "id": "4653defd",
   "metadata": {},
   "outputs": [
    {
     "data": {
      "text/html": [
       "<div>\n",
       "<style scoped>\n",
       "    .dataframe tbody tr th:only-of-type {\n",
       "        vertical-align: middle;\n",
       "    }\n",
       "\n",
       "    .dataframe tbody tr th {\n",
       "        vertical-align: top;\n",
       "    }\n",
       "\n",
       "    .dataframe thead th {\n",
       "        text-align: right;\n",
       "    }\n",
       "</style>\n",
       "<table border=\"1\" class=\"dataframe\">\n",
       "  <thead>\n",
       "    <tr style=\"text-align: right;\">\n",
       "      <th></th>\n",
       "      <th>Train Index</th>\n",
       "      <th>remove_stop_words</th>\n",
       "      <th>remove_punctuations</th>\n",
       "      <th>to_lower</th>\n",
       "      <th>vocab_size</th>\n",
       "      <th>embedding_dim</th>\n",
       "      <th>sentence_length_threshold</th>\n",
       "      <th>learning_rate</th>\n",
       "    </tr>\n",
       "  </thead>\n",
       "  <tbody>\n",
       "    <tr>\n",
       "      <th>656</th>\n",
       "      <td>657</td>\n",
       "      <td>False</td>\n",
       "      <td>False</td>\n",
       "      <td>False</td>\n",
       "      <td>20000</td>\n",
       "      <td>64</td>\n",
       "      <td>29</td>\n",
       "      <td>0.00005</td>\n",
       "    </tr>\n",
       "  </tbody>\n",
       "</table>\n",
       "</div>"
      ],
      "text/plain": [
       "     Train Index  remove_stop_words  remove_punctuations  to_lower  \\\n",
       "656          657              False                False     False   \n",
       "\n",
       "     vocab_size  embedding_dim  sentence_length_threshold  learning_rate  \n",
       "656       20000             64                         29        0.00005  "
      ]
     },
     "execution_count": 6,
     "metadata": {},
     "output_type": "execute_result"
    }
   ],
   "source": [
    "param[param['Train Index'] == best_train_index]"
   ]
  },
  {
   "cell_type": "code",
   "execution_count": null,
   "id": "a05262bf",
   "metadata": {},
   "outputs": [],
   "source": []
  }
 ],
 "metadata": {
  "kernelspec": {
   "display_name": "Python 3 (ipykernel)",
   "language": "python",
   "name": "python3"
  },
  "language_info": {
   "codemirror_mode": {
    "name": "ipython",
    "version": 3
   },
   "file_extension": ".py",
   "mimetype": "text/x-python",
   "name": "python",
   "nbconvert_exporter": "python",
   "pygments_lexer": "ipython3",
   "version": "3.11.9"
  }
 },
 "nbformat": 4,
 "nbformat_minor": 5
}
