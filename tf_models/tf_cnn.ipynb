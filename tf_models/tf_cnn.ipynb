{
 "cells": [
  {
   "cell_type": "code",
   "execution_count": 1,
   "id": "fcfe89f4",
   "metadata": {},
   "outputs": [],
   "source": [
    "import pandas as pd\n",
    "import pandas as pd\n",
    "import numpy as np\n",
    "from sklearn.model_selection import train_test_split\n",
    "from tensorflow.keras.preprocessing.text import Tokenizer\n",
    "from tensorflow.keras.preprocessing.sequence import pad_sequences\n",
    "import tensorflow as tf\n",
    "from tensorflow.keras.models import Sequential\n",
    "from tensorflow.keras.layers import Embedding, Conv1D, GlobalMaxPooling1D, Dense"
   ]
  },
  {
   "cell_type": "code",
   "execution_count": 2,
   "id": "6db03d71",
   "metadata": {},
   "outputs": [],
   "source": [
    "non_sarc_df = pd.read_csv(\"../data/corpora_dataset.csv\",sep=\";\", encoding='cp1252')\n",
    "\n",
    "sarc_df = pd.read_csv(\"../data/corpora_dataset.csv\", sep=\";\", encoding='cp1252')"
   ]
  },
  {
   "cell_type": "code",
   "execution_count": 3,
   "id": "456ba49e",
   "metadata": {},
   "outputs": [
    {
     "data": {
      "text/plain": [
       "((9789, 3), (5721, 3))"
      ]
     },
     "execution_count": 3,
     "metadata": {},
     "output_type": "execute_result"
    }
   ],
   "source": [
    "non_sarc_df.shape, sarc_df.shape"
   ]
  },
  {
   "cell_type": "code",
   "execution_count": 4,
   "id": "f1a2fa4b",
   "metadata": {},
   "outputs": [],
   "source": [
    "df = pd.concat([non_sarc_df, sarc_df], axis=0)"
   ]
  },
  {
   "cell_type": "code",
   "execution_count": 5,
   "id": "4aeff528",
   "metadata": {},
   "outputs": [
    {
     "data": {
      "text/plain": [
       "(15510, 3)"
      ]
     },
     "execution_count": 5,
     "metadata": {},
     "output_type": "execute_result"
    }
   ],
   "source": [
    "df.shape"
   ]
  },
  {
   "cell_type": "code",
   "execution_count": 6,
   "id": "e6f7364e",
   "metadata": {},
   "outputs": [
    {
     "data": {
      "text/html": [
       "<div>\n",
       "<style scoped>\n",
       "    .dataframe tbody tr th:only-of-type {\n",
       "        vertical-align: middle;\n",
       "    }\n",
       "\n",
       "    .dataframe tbody tr th {\n",
       "        vertical-align: top;\n",
       "    }\n",
       "\n",
       "    .dataframe thead th {\n",
       "        text-align: right;\n",
       "    }\n",
       "</style>\n",
       "<table border=\"1\" class=\"dataframe\">\n",
       "  <thead>\n",
       "    <tr style=\"text-align: right;\">\n",
       "      <th></th>\n",
       "      <th>titles</th>\n",
       "      <th>category</th>\n",
       "      <th>Label</th>\n",
       "    </tr>\n",
       "  </thead>\n",
       "  <tbody>\n",
       "    <tr>\n",
       "      <th>0</th>\n",
       "      <td>Roma, una perdita d’acqua in via del Forte Bra...</td>\n",
       "      <td>cronaca</td>\n",
       "      <td>0</td>\n",
       "    </tr>\n",
       "    <tr>\n",
       "      <th>1</th>\n",
       "      <td>Bari, racket di prostituzione minorile: alle t...</td>\n",
       "      <td>cronaca</td>\n",
       "      <td>0</td>\n",
       "    </tr>\n",
       "    <tr>\n",
       "      <th>2</th>\n",
       "      <td>La truffa al figlio di Bruno Giordano: un fals...</td>\n",
       "      <td>cronaca</td>\n",
       "      <td>0</td>\n",
       "    </tr>\n",
       "    <tr>\n",
       "      <th>3</th>\n",
       "      <td>Modena, la ragazzina stuprata a 12 anni e il v...</td>\n",
       "      <td>cronaca</td>\n",
       "      <td>0</td>\n",
       "    </tr>\n",
       "    <tr>\n",
       "      <th>4</th>\n",
       "      <td>Fedez denunciato per rissa in discoteca per il...</td>\n",
       "      <td>cronaca</td>\n",
       "      <td>0</td>\n",
       "    </tr>\n",
       "  </tbody>\n",
       "</table>\n",
       "</div>"
      ],
      "text/plain": [
       "                                              titles category  Label\n",
       "0  Roma, una perdita d’acqua in via del Forte Bra...  cronaca      0\n",
       "1  Bari, racket di prostituzione minorile: alle t...  cronaca      0\n",
       "2  La truffa al figlio di Bruno Giordano: un fals...  cronaca      0\n",
       "3  Modena, la ragazzina stuprata a 12 anni e il v...  cronaca      0\n",
       "4  Fedez denunciato per rissa in discoteca per il...  cronaca      0"
      ]
     },
     "execution_count": 6,
     "metadata": {},
     "output_type": "execute_result"
    }
   ],
   "source": [
    "df.head()"
   ]
  },
  {
   "cell_type": "code",
   "execution_count": 7,
   "id": "53e27f50",
   "metadata": {},
   "outputs": [
    {
     "name": "stdout",
     "output_type": "stream",
     "text": [
      "Epoch 1/10\n",
      "388/388 - 2s - 6ms/step - accuracy: 0.7702 - loss: 0.4488 - val_accuracy: 0.8614 - val_loss: 0.3162\n",
      "Epoch 2/10\n",
      "388/388 - 1s - 2ms/step - accuracy: 0.8792 - loss: 0.2757 - val_accuracy: 0.8740 - val_loss: 0.2941\n",
      "Epoch 3/10\n",
      "388/388 - 1s - 2ms/step - accuracy: 0.9072 - loss: 0.2211 - val_accuracy: 0.8765 - val_loss: 0.2943\n",
      "Epoch 4/10\n",
      "388/388 - 1s - 2ms/step - accuracy: 0.9244 - loss: 0.1857 - val_accuracy: 0.8801 - val_loss: 0.2929\n",
      "Epoch 5/10\n",
      "388/388 - 1s - 2ms/step - accuracy: 0.9382 - loss: 0.1577 - val_accuracy: 0.8930 - val_loss: 0.2767\n",
      "Epoch 6/10\n",
      "388/388 - 1s - 2ms/step - accuracy: 0.9508 - loss: 0.1294 - val_accuracy: 0.8981 - val_loss: 0.2996\n",
      "Epoch 7/10\n",
      "388/388 - 1s - 2ms/step - accuracy: 0.9622 - loss: 0.1043 - val_accuracy: 0.9043 - val_loss: 0.2888\n",
      "Epoch 8/10\n",
      "388/388 - 1s - 2ms/step - accuracy: 0.9718 - loss: 0.0808 - val_accuracy: 0.9033 - val_loss: 0.3293\n",
      "Epoch 9/10\n",
      "388/388 - 1s - 2ms/step - accuracy: 0.9792 - loss: 0.0616 - val_accuracy: 0.9039 - val_loss: 0.3366\n",
      "Epoch 10/10\n",
      "388/388 - 1s - 2ms/step - accuracy: 0.9864 - loss: 0.0466 - val_accuracy: 0.9033 - val_loss: 0.3771\n",
      "97/97 - 0s - 1ms/step - accuracy: 0.9033 - loss: 0.3771\n",
      "Test Accuracy: 0.9032881855964661\n"
     ]
    }
   ],
   "source": [
    "sentences = df['titles'].values\n",
    "labels = df['Label'].values\n",
    "\n",
    "# Veriyi eğitim ve test olarak ayırın\n",
    "training_sentences, testing_sentences, training_labels, testing_labels = train_test_split(sentences, labels, test_size=0.2)\n",
    "\n",
    "vocab_size = 1000\n",
    "embedding_dim = 16\n",
    "max_length = 32\n",
    "trunc_type='post'\n",
    "padding_type='post'\n",
    "\n",
    "tokenizer = Tokenizer(num_words=vocab_size, oov_token=\"<OOV>\")\n",
    "tokenizer.fit_on_texts(training_sentences)\n",
    "word_index = tokenizer.word_index\n",
    "\n",
    "training_sequences = tokenizer.texts_to_sequences(training_sentences)\n",
    "training_padded = pad_sequences(training_sequences, maxlen=max_length, padding=padding_type, truncating=trunc_type)\n",
    "\n",
    "testing_sequences = tokenizer.texts_to_sequences(testing_sentences)\n",
    "testing_padded = pad_sequences(testing_sequences, maxlen=max_length, padding=padding_type, truncating=trunc_type)\n",
    "\n",
    "model = Sequential([\n",
    "    Embedding(vocab_size, embedding_dim),\n",
    "    Conv1D(128, 5, activation='relu'),\n",
    "    GlobalMaxPooling1D(),\n",
    "    Dense(24, activation='relu'),\n",
    "    Dense(1, activation='sigmoid')\n",
    "])\n",
    "\n",
    "model.compile(loss='binary_crossentropy', optimizer='adam', metrics=['accuracy'])\n",
    "\n",
    "num_epochs = 10\n",
    "training_padded = np.array(training_padded)\n",
    "training_labels = np.array(training_labels)\n",
    "testing_padded = np.array(testing_padded)\n",
    "testing_labels = np.array(testing_labels)\n",
    "\n",
    "history = model.fit(\n",
    "    training_padded, training_labels,\n",
    "    epochs=num_epochs,\n",
    "    validation_data=(testing_padded, testing_labels),\n",
    "    verbose=2\n",
    ")\n",
    "\n",
    "loss, accuracy = model.evaluate(testing_padded, testing_labels, verbose=2)\n",
    "print(f'Test Accuracy: {accuracy}')"
   ]
  },
  {
   "cell_type": "code",
   "execution_count": null,
   "id": "01a23de8",
   "metadata": {},
   "outputs": [],
   "source": []
  }
 ],
 "metadata": {
  "kernelspec": {
   "display_name": "Python 3 (ipykernel)",
   "language": "python",
   "name": "python3"
  },
  "language_info": {
   "codemirror_mode": {
    "name": "ipython",
    "version": 3
   },
   "file_extension": ".py",
   "mimetype": "text/x-python",
   "name": "python",
   "nbconvert_exporter": "python",
   "pygments_lexer": "ipython3",
   "version": "3.11.9"
  }
 },
 "nbformat": 4,
 "nbformat_minor": 5
}
