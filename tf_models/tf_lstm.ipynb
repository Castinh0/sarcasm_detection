{
 "cells": [
  {
   "cell_type": "code",
   "execution_count": null,
   "id": "fcfe89f4",
   "metadata": {},
   "outputs": [],
   "source": [
    "import pandas as pd\n",
    "import numpy as np\n",
    "import matplotlib.pyplot as plt\n",
    "import time\n",
    "\n",
    "from stop_words import get_stop_words\n",
    "from collections import Counter\n",
    "\n",
    "from sklearn.model_selection import train_test_split\n",
    "from sklearn.metrics import classification_report, roc_auc_score, roc_curve, f1_score\n",
    "\n",
    "import tensorflow as tf\n",
    "from tensorflow.keras.preprocessing.text import Tokenizer\n",
    "from tensorflow.keras.preprocessing.sequence import pad_sequences\n",
    "from tensorflow.keras.models import Sequential\n",
    "from tensorflow.keras.layers import Embedding, Conv1D, GlobalMaxPooling1D, Dense, Dropout, LSTM, Flatten\n",
    "from tensorflow.keras.callbacks import EarlyStopping\n",
    "from tensorflow.keras.optimizers import Adam\n",
    "\n",
    "np.random.seed(42)\n",
    "tf.random.set_seed(42)"
   ]
  },
  {
   "cell_type": "code",
   "execution_count": null,
   "id": "4aeff528",
   "metadata": {},
   "outputs": [],
   "source": [
    "df = pd.read_csv(\"../data/corpora_dataset.csv\",sep=\";\", encoding='utf8')"
   ]
  },
  {
   "cell_type": "code",
   "execution_count": null,
   "id": "5d8e7cba",
   "metadata": {},
   "outputs": [],
   "source": [
    "remove_stop_words = False\n",
    "remove_punctuations = True\n",
    "to_lower = False\n",
    "vocab_size = 10000\n",
    "embedding_dim = 4\n",
    "sentence_length_threshold = 35\n",
    "learning_rate = 0.001"
   ]
  },
  {
   "cell_type": "code",
   "execution_count": null,
   "id": "0858f5ce",
   "metadata": {},
   "outputs": [],
   "source": [
    "trunc_type='post'\n",
    "padding_type='post'\n",
    "optimizer = Adam(learning_rate=learning_rate)\n",
    "loss_function = 'binary_crossentropy'\n",
    "train_metric = \"accuracy\"\n",
    "num_epochs = 30\n",
    "early_stopping_patience = 3"
   ]
  },
  {
   "cell_type": "code",
   "execution_count": null,
   "id": "78c556c3",
   "metadata": {},
   "outputs": [],
   "source": [
    "if remove_stop_words:\n",
    "\n",
    "    titles = df['titles'].to_list()\n",
    "\n",
    "    stop = get_stop_words('italian')\n",
    "\n",
    "    for i in range(len(titles)):\n",
    "\n",
    "        titles[i]  = ' '.join([i for i in titles[i].split() if i not in stop])\n",
    "\n",
    "    df[\"titles\"] = titles"
   ]
  },
  {
   "cell_type": "code",
   "execution_count": null,
   "id": "cb05d90e",
   "metadata": {},
   "outputs": [],
   "source": [
    "sentences = df['titles'].values\n",
    "labels = df['Label'].values\n",
    "\n",
    "training_sentences, testing_sentences, training_labels, testing_labels = train_test_split(sentences, labels, test_size=0.2)\n",
    "\n",
    "print(f\"Traning Set Size: {len(training_sentences)}\")\n",
    "print(f\"Test Set Size: {len(testing_sentences)}\")\n",
    "\n",
    "if remove_punctuations:\n",
    "    tokenizer = Tokenizer(num_words=vocab_size, oov_token=\"<OOV>\", lower=to_lower)\n",
    "else:\n",
    "    tokenizer = Tokenizer(num_words=vocab_size, oov_token=\"<OOV>\", lower=to_lower, filters='')\n",
    "\n",
    "tokenizer.fit_on_texts(training_sentences)\n",
    "word_index = tokenizer.word_index"
   ]
  },
  {
   "cell_type": "code",
   "execution_count": null,
   "id": "0692aec9",
   "metadata": {},
   "outputs": [],
   "source": [
    "print(f\"Training Set Word Count: {len(word_index)}\")"
   ]
  },
  {
   "cell_type": "code",
   "execution_count": null,
   "id": "fb35bd48",
   "metadata": {},
   "outputs": [],
   "source": [
    "lengths = []\n",
    "\n",
    "for sentences in training_sentences:\n",
    "    \n",
    "    sen_len = len(sentences.split())\n",
    "    \n",
    "    lengths.append(sen_len)"
   ]
  },
  {
   "cell_type": "code",
   "execution_count": null,
   "id": "ddb94692",
   "metadata": {},
   "outputs": [],
   "source": [
    "print(f\"\\nSentences;\\nMin Length: {min(lengths)}\\nMax Length: {max(lengths)}\\nMean Length: {(sum(lengths) / len(lengths))}\\nSTD of Lengths: {np.std(lengths)}\")"
   ]
  },
  {
   "cell_type": "code",
   "execution_count": null,
   "id": "7d7c4f01",
   "metadata": {},
   "outputs": [],
   "source": [
    "frequency = Counter(lengths)\n",
    "\n",
    "labels, counts = zip(*frequency.items())\n",
    "\n",
    "plt.bar(labels, counts)\n",
    "plt.xlabel('Word Length')\n",
    "plt.ylabel('Word Frequency')\n",
    "plt.title('Frequency Graph')\n",
    "plt.show()"
   ]
  },
  {
   "cell_type": "code",
   "execution_count": null,
   "id": "7ba3e062",
   "metadata": {},
   "outputs": [],
   "source": [
    "if sentence_length_threshold != -1:\n",
    "    print(f\"\\nSentence Lenght Threshold overrided: {sentence_length_threshold}\")\n",
    "else:\n",
    "    sentence_length_threshold = int((sum(lengths) / len(lengths)) + (3 * np.std(lengths)))\n",
    "    print(f\"\\nEven if data has not normal distribution but we can take sentence length_threshold as Mean+3std: {sentence_length_threshold}\")"
   ]
  },
  {
   "cell_type": "code",
   "execution_count": null,
   "id": "f0ec02d7",
   "metadata": {},
   "outputs": [],
   "source": [
    "count = 0\n",
    "\n",
    "for i in lengths:\n",
    "    \n",
    "    if i <= sentence_length_threshold:\n",
    "        count+=1\n",
    "\n",
    "print(f\"\\nWe cover {(count/len(lengths)*100):.2f}% of the sentences without losing an information. Expectation of normal distribution is 99.7%.\")"
   ]
  },
  {
   "cell_type": "code",
   "execution_count": null,
   "id": "9af3b2f8",
   "metadata": {},
   "outputs": [],
   "source": [
    "training_sequences = tokenizer.texts_to_sequences(training_sentences)\n",
    "training_padded = pad_sequences(training_sequences, maxlen=sentence_length_threshold, padding=padding_type, truncating=trunc_type)\n",
    "\n",
    "testing_sequences = tokenizer.texts_to_sequences(testing_sentences)\n",
    "testing_padded = pad_sequences(testing_sequences, maxlen=sentence_length_threshold, padding=padding_type, truncating=trunc_type)\n",
    "\n",
    "training_padded = np.array(training_padded)\n",
    "training_labels = np.array(training_labels)\n",
    "testing_padded = np.array(testing_padded)\n",
    "testing_labels = np.array(testing_labels)"
   ]
  },
  {
   "cell_type": "code",
   "execution_count": null,
   "id": "53e27f50",
   "metadata": {},
   "outputs": [],
   "source": [
    "model = Sequential([\n",
    "    Embedding(vocab_size, embedding_dim),\n",
    "    LSTM(16, return_sequences=False),\n",
    "    Dense(8, activation='relu'),\n",
    "    Dropout(0.5),\n",
    "    Dense(1, activation='sigmoid')\n",
    "])\n",
    "\n",
    "model.compile(loss=loss_function, optimizer=optimizer, metrics=[train_metric])\n",
    "\n",
    "early_stopping = EarlyStopping(monitor='val_loss', patience=early_stopping_patience, restore_best_weights=True)\n",
    "\n",
    "print()\n",
    "\n",
    "print(\"Train Started.\")\n",
    "\n",
    "start_time = time.time()\n",
    "\n",
    "history = model.fit(\n",
    "    training_padded, training_labels,\n",
    "    epochs=num_epochs,\n",
    "    validation_data=(testing_padded, testing_labels),\n",
    "    callbacks=[early_stopping],\n",
    "    verbose=2\n",
    ")\n",
    "\n",
    "end_time = time.time()\n",
    "\n",
    "print(\"Train Ended.\")\n",
    "\n",
    "training_time = (end_time - start_time)\n",
    "\n",
    "print(f\"\\nTraining time: {training_time} seconds.\")"
   ]
  },
  {
   "cell_type": "code",
   "execution_count": null,
   "id": "63932231",
   "metadata": {},
   "outputs": [],
   "source": [
    "def acc_loss_plots(history, string):\n",
    "    plt.plot(history.history[string])\n",
    "    plt.plot(history.history['val_' + string])\n",
    "    plt.axvline(x=stopped_epoch, color='r', linestyle='--')\n",
    "    plt.xlabel(\"Epochs\")\n",
    "    plt.ylabel(string)\n",
    "    plt.legend([string, 'val_' + string, \"early_stop_epoch\"])\n",
    "    plt.show()"
   ]
  },
  {
   "cell_type": "code",
   "execution_count": null,
   "id": "01a23de8",
   "metadata": {},
   "outputs": [],
   "source": [
    "stopped_epoch = early_stopping.stopped_epoch - early_stopping_patience\n",
    "\n",
    "acc_loss_plots(history, \"accuracy\")\n",
    "acc_loss_plots(history, \"loss\")"
   ]
  },
  {
   "cell_type": "code",
   "execution_count": null,
   "id": "e8092302",
   "metadata": {},
   "outputs": [],
   "source": [
    "y_pred_prob = model.predict(testing_padded)\n",
    "\n",
    "auc_score = roc_auc_score(testing_labels, y_pred_prob)\n",
    "\n",
    "fpr, tpr, thresholds = roc_curve(testing_labels, y_pred_prob)\n",
    "\n",
    "best_index = np.argmax(tpr-fpr)\n",
    "best_threshold = thresholds[best_index]\n",
    "best_tpr = tpr[best_index]\n",
    "best_fpr = fpr[best_index]\n",
    "\n",
    "plt.figure()\n",
    "plt.plot(fpr, tpr, color='blue', lw=2, label='ROC curve (AUC = %0.2f)' % auc_score)\n",
    "plt.scatter(best_fpr, best_tpr, color='red', label=f'Best Threshold = {best_threshold:.2f}', s=100)\n",
    "plt.plot([0, 1], [0, 1], color='red', lw=2, linestyle='--')\n",
    "plt.xlim([0.0, 1.0])\n",
    "plt.ylim([0.0, 1.05])\n",
    "plt.xlabel('False Positive Rate')\n",
    "plt.ylabel('True Positive Rate')\n",
    "plt.title('Receiver Operating Characteristic (ROC)')\n",
    "plt.legend(loc=\"lower right\")\n",
    "plt.show()"
   ]
  },
  {
   "cell_type": "code",
   "execution_count": null,
   "id": "086d12d2",
   "metadata": {},
   "outputs": [],
   "source": [
    "print(f\"We used cut off threshold {best_threshold:.2f}\")"
   ]
  },
  {
   "cell_type": "code",
   "execution_count": null,
   "id": "d75aa909",
   "metadata": {},
   "outputs": [],
   "source": [
    "y_pred = (y_pred_prob > best_threshold).astype(int)\n",
    "\n",
    "report = classification_report(testing_labels, y_pred)\n",
    "\n",
    "print(\"\\nClassification Report for Test Data:\\n\\n\", report)"
   ]
  },
  {
   "cell_type": "code",
   "execution_count": null,
   "id": "8ce8fdfa",
   "metadata": {},
   "outputs": [],
   "source": [
    "train_accuracy = history.history['accuracy'][-1]\n",
    "test_accuracy = history.history['val_accuracy'][-1]\n",
    "train_loss = history.history['loss'][-1]\n",
    "test_loss = history.history['val_loss'][-1]\n",
    "f1 = f1_score(testing_labels, y_pred)\n",
    "\n",
    "print(\"-----------METRICS-----------------\")\n",
    "print(\"Train Accuracy Score:\", train_accuracy)\n",
    "print(\"Test Accuracy Score:\", test_accuracy)\n",
    "print(\"Train Loss Score:\", train_loss)\n",
    "print(\"Test Loss Score:\", test_loss)\n",
    "print(\"Test F1 Score:\", f1)\n",
    "print(\"Test AUC Score:\", auc_score)\n",
    "print(\"Train Time:\", training_time)\n",
    "print(\"-----------------------------------\")"
   ]
  },
  {
   "cell_type": "code",
   "execution_count": null,
   "id": "b2ae1d24",
   "metadata": {},
   "outputs": [],
   "source": []
  }
 ],
 "metadata": {
  "kernelspec": {
   "display_name": "Python 3 (ipykernel)",
   "language": "python",
   "name": "python3"
  },
  "language_info": {
   "codemirror_mode": {
    "name": "ipython",
    "version": 3
   },
   "file_extension": ".py",
   "mimetype": "text/x-python",
   "name": "python",
   "nbconvert_exporter": "python",
   "pygments_lexer": "ipython3",
   "version": "3.11.9"
  }
 },
 "nbformat": 4,
 "nbformat_minor": 5
}
