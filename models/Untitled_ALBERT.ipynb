{
 "cells": [
  {
   "cell_type": "code",
   "execution_count": 1,
   "id": "09c9c754-e53f-4704-a4a0-d6ceecb3a3c0",
   "metadata": {},
   "outputs": [
    {
     "name": "stdout",
     "output_type": "stream",
     "text": [
      "/Users/nico/Desktop/Github\n"
     ]
    }
   ],
   "source": [
    "import os\n",
    "os.chdir('/Users/nico/Desktop/Github')\n",
    "print(os.getcwd())"
   ]
  },
  {
   "cell_type": "code",
   "execution_count": 2,
   "id": "9585612a-d710-41a3-bcef-8234413e4134",
   "metadata": {},
   "outputs": [],
   "source": [
    "import pandas as pd\n",
    "import matplotlib.pyplot as plt\n",
    "import nltk\n",
    "import numpy as np"
   ]
  },
  {
   "cell_type": "code",
   "execution_count": 3,
   "id": "3af7af64-a9c7-4f90-97d6-25ed55718585",
   "metadata": {},
   "outputs": [
    {
     "data": {
      "text/html": [
       "<div>\n",
       "<style scoped>\n",
       "    .dataframe tbody tr th:only-of-type {\n",
       "        vertical-align: middle;\n",
       "    }\n",
       "\n",
       "    .dataframe tbody tr th {\n",
       "        vertical-align: top;\n",
       "    }\n",
       "\n",
       "    .dataframe thead th {\n",
       "        text-align: right;\n",
       "    }\n",
       "</style>\n",
       "<table border=\"1\" class=\"dataframe\">\n",
       "  <thead>\n",
       "    <tr style=\"text-align: right;\">\n",
       "      <th></th>\n",
       "      <th>titles</th>\n",
       "      <th>category</th>\n",
       "      <th>Label</th>\n",
       "    </tr>\n",
       "  </thead>\n",
       "  <tbody>\n",
       "    <tr>\n",
       "      <th>0</th>\n",
       "      <td>Trentino, femministe chiedono l'abbattimento d...</td>\n",
       "      <td>cronaca</td>\n",
       "      <td>1</td>\n",
       "    </tr>\n",
       "    <tr>\n",
       "      <th>1</th>\n",
       "      <td>\"Voglio essere come lui!\" Bambino guarda video...</td>\n",
       "      <td>cronaca</td>\n",
       "      <td>1</td>\n",
       "    </tr>\n",
       "    <tr>\n",
       "      <th>2</th>\n",
       "      <td>\"Vorrei staccare la spina\". Sospeso medico ria...</td>\n",
       "      <td>cronaca</td>\n",
       "      <td>1</td>\n",
       "    </tr>\n",
       "    <tr>\n",
       "      <th>3</th>\n",
       "      <td>Gatta muore al pronto soccorso per animali, ve...</td>\n",
       "      <td>cronaca</td>\n",
       "      <td>1</td>\n",
       "    </tr>\n",
       "    <tr>\n",
       "      <th>4</th>\n",
       "      <td>Bologna, Comune installa sui semafori piccioni...</td>\n",
       "      <td>cronaca</td>\n",
       "      <td>1</td>\n",
       "    </tr>\n",
       "  </tbody>\n",
       "</table>\n",
       "</div>"
      ],
      "text/plain": [
       "                                              titles category  Label\n",
       "0  Trentino, femministe chiedono l'abbattimento d...  cronaca      1\n",
       "1  \"Voglio essere come lui!\" Bambino guarda video...  cronaca      1\n",
       "2  \"Vorrei staccare la spina\". Sospeso medico ria...  cronaca      1\n",
       "3  Gatta muore al pronto soccorso per animali, ve...  cronaca      1\n",
       "4  Bologna, Comune installa sui semafori piccioni...  cronaca      1"
      ]
     },
     "execution_count": 3,
     "metadata": {},
     "output_type": "execute_result"
    }
   ],
   "source": [
    "df = pd.read_csv('sarcasm_detection/data/corpora_dataset.csv', sep=';')\n",
    "df.head()"
   ]
  },
  {
   "cell_type": "code",
   "execution_count": 4,
   "id": "99ca6305-bae6-4bda-9782-36c216cba4d2",
   "metadata": {},
   "outputs": [
    {
     "data": {
      "image/png": "[encoded data removed]",
      "text/plain": [
       "<Figure size 640x480 with 1 Axes>"
      ]
     },
     "metadata": {},
     "output_type": "display_data"
    }
   ],
   "source": [
    "label_counts = df['Label'].value_counts()\n",
    "\n",
    "label_names = ['Not Sarcastic', 'Sarcastic']\n",
    "\n",
    "plt.bar(label_names, label_counts)\n",
    "plt.xlabel('Label')\n",
    "plt.ylabel('Number of Examples')\n",
    "plt.title('Distribution of Sarcastic vs. Not Sarcastic Examples')\n",
    "plt.show()"
   ]
  },
  {
   "cell_type": "code",
   "execution_count": 5,
   "id": "c7c28b64-8b40-4817-8fcc-62e87fc9e294",
   "metadata": {},
   "outputs": [
    {
     "name": "stderr",
     "output_type": "stream",
     "text": [
      "[nltk_data] Downloading package wordnet to /Users/nico/nltk_data...\n",
      "[nltk_data]   Package wordnet is already up-to-date!\n"
     ]
    },
    {
     "data": {
      "text/plain": [
       "True"
      ]
     },
     "execution_count": 5,
     "metadata": {},
     "output_type": "execute_result"
    }
   ],
   "source": [
    "nltk.download('wordnet')"
   ]
  },
  {
   "cell_type": "code",
   "execution_count": 6,
   "id": "0dfb7779-27a2-4962-b152-41eb186a1a6f",
   "metadata": {},
   "outputs": [
    {
     "data": {
      "text/html": [
       "<div>\n",
       "<style scoped>\n",
       "    .dataframe tbody tr th:only-of-type {\n",
       "        vertical-align: middle;\n",
       "    }\n",
       "\n",
       "    .dataframe tbody tr th {\n",
       "        vertical-align: top;\n",
       "    }\n",
       "\n",
       "    .dataframe thead th {\n",
       "        text-align: right;\n",
       "    }\n",
       "</style>\n",
       "<table border=\"1\" class=\"dataframe\">\n",
       "  <thead>\n",
       "    <tr style=\"text-align: right;\">\n",
       "      <th></th>\n",
       "      <th>titles</th>\n",
       "      <th>category</th>\n",
       "      <th>Label</th>\n",
       "    </tr>\n",
       "  </thead>\n",
       "  <tbody>\n",
       "    <tr>\n",
       "      <th>0</th>\n",
       "      <td>trentino femministe chiedono labbattimento del...</td>\n",
       "      <td>cronaca</td>\n",
       "      <td>1</td>\n",
       "    </tr>\n",
       "    <tr>\n",
       "      <th>1</th>\n",
       "      <td>voglio essere bambino guarda video salvini dec...</td>\n",
       "      <td>cronaca</td>\n",
       "      <td>1</td>\n",
       "    </tr>\n",
       "    <tr>\n",
       "      <th>2</th>\n",
       "      <td>vorrei staccare spina sospeso medico rianimato...</td>\n",
       "      <td>cronaca</td>\n",
       "      <td>1</td>\n",
       "    </tr>\n",
       "    <tr>\n",
       "      <th>3</th>\n",
       "      <td>gatta muore pronto soccorso animali veterinari...</td>\n",
       "      <td>cronaca</td>\n",
       "      <td>1</td>\n",
       "    </tr>\n",
       "    <tr>\n",
       "      <th>4</th>\n",
       "      <td>bologna comune installa semafori piccioni adde...</td>\n",
       "      <td>cronaca</td>\n",
       "      <td>1</td>\n",
       "    </tr>\n",
       "  </tbody>\n",
       "</table>\n",
       "</div>"
      ],
      "text/plain": [
       "                                              titles category  Label\n",
       "0  trentino femministe chiedono labbattimento del...  cronaca      1\n",
       "1  voglio essere bambino guarda video salvini dec...  cronaca      1\n",
       "2  vorrei staccare spina sospeso medico rianimato...  cronaca      1\n",
       "3  gatta muore pronto soccorso animali veterinari...  cronaca      1\n",
       "4  bologna comune installa semafori piccioni adde...  cronaca      1"
      ]
     },
     "execution_count": 6,
     "metadata": {},
     "output_type": "execute_result"
    }
   ],
   "source": [
    "import re\n",
    "from nltk.corpus import stopwords\n",
    "from nltk.stem import PorterStemmer, WordNetLemmatizer\n",
    "\n",
    "df = df[df['titles'].str.len() >= 20] # remove short titles\n",
    "\n",
    "df['titles'] = df['titles'].str.lower() # lowercasing\n",
    "\n",
    "df['titles'] = df['titles'].str.replace('[^\\w\\s]', '', regex=True) # removing punctuation\n",
    "\n",
    "# Removing stop words\n",
    "stop = set(stopwords.words('italian'))\n",
    "df['titles'] = df['titles'].apply(lambda x: ' '.join([word for word in x.split() if word not in stop]))\n",
    "\n",
    "# lemmatization\n",
    "lemmatizer = WordNetLemmatizer()\n",
    "df['titles'] = df['titles'].apply(lambda x: ' '.join([lemmatizer.lemmatize(word) for word in x.split()]))\n",
    "\n",
    "# remove extra whitespace\n",
    "df['titles'] = df['titles'].str.strip()\n",
    "df['titles'] = df['titles'].str.replace('\\s+', ' ', regex=True)\n",
    "\n",
    "df.head()"
   ]
  },
  {
   "cell_type": "code",
   "execution_count": 7,
   "id": "9c217e68-9f37-42ee-a339-bd64bc2b1c60",
   "metadata": {},
   "outputs": [],
   "source": [
    "from sklearn.model_selection import train_test_split\n",
    "\n",
    "train_texts, temp_texts, train_labels, temp_labels = train_test_split(df['titles'], df['Label'], test_size=0.2, random_state=42)\n",
    "\n",
    "val_texts, test_texts, val_labels, test_labels = train_test_split(temp_texts, temp_labels, test_size=0.5, random_state=42)"
   ]
  },
  {
   "cell_type": "code",
   "execution_count": 8,
   "id": "2c862620-bf74-4483-95d9-7ccd6e9a8035",
   "metadata": {},
   "outputs": [
    {
     "name": "stderr",
     "output_type": "stream",
     "text": [
      "/Library/Frameworks/Python.framework/Versions/3.11/lib/python3.11/site-packages/huggingface_hub/file_download.py:1132: FutureWarning: `resume_download` is deprecated and will be removed in version 1.0.0. Downloads always resume when possible. If you want to force a new download, use `force_download=True`.\n",
      "  warnings.warn(\n"
     ]
    }
   ],
   "source": [
    "from transformers import AlbertTokenizer, AlbertForSequenceClassification\n",
    "\n",
    "model_name = 'albert-base-v2'\n",
    "\n",
    "# tokenizer\n",
    "tokenizer = AlbertTokenizer.from_pretrained(model_name)\n",
    "\n",
    "# Tokenize the texts\n",
    "train_encodings = tokenizer(train_texts.tolist(), truncation=True, padding=True)\n",
    "\n",
    "val_encodings = tokenizer(val_texts.tolist(), truncation=True, padding=True)\n",
    "\n",
    "test_encodings = tokenizer(test_texts.tolist(), truncation=True, padding=True)"
   ]
  },
  {
   "cell_type": "code",
   "execution_count": 9,
   "id": "9cf8a9be-f0d6-42ea-9523-5d7447224aab",
   "metadata": {},
   "outputs": [],
   "source": [
    "import torch\n",
    "\n",
    "# define a PyTorch dataset\n",
    "\n",
    "class SarcasmDataset(torch.utils.data.Dataset):\n",
    "    def __init__(self, encodings, labels):\n",
    "         self.encodings = encodings\n",
    "         self.labels = labels\n",
    "        \n",
    "    def __getitem__(self, idx):\n",
    "        item = {key: torch.tensor(val[idx]) for key, val in self.encodings.items()}\n",
    "        item['labels'] = torch.tensor(self.labels[idx]) \n",
    "        return item\n",
    "        \n",
    "    def __len__(self):\n",
    "        return len(self.labels)"
   ]
  },
  {
   "cell_type": "code",
   "execution_count": 10,
   "id": "08a02d52-f697-4c03-a19b-1dee90aaff3a",
   "metadata": {},
   "outputs": [],
   "source": [
    "# convert our tokenized data into a torch datasets\n",
    "train_dataset = SarcasmDataset(train_encodings, train_labels.tolist())\n",
    "val_dataset = SarcasmDataset(val_encodings, val_labels.tolist())\n",
    "test_dataset = SarcasmDataset(test_encodings, test_labels.tolist())"
   ]
  },
  {
   "cell_type": "code",
   "execution_count": 11,
   "id": "38059073-6ded-49ee-bab4-1a813c679130",
   "metadata": {},
   "outputs": [
    {
     "name": "stderr",
     "output_type": "stream",
     "text": [
      "Some weights of AlbertForSequenceClassification were not initialized from the model checkpoint at albert-base-v2 and are newly initialized: ['classifier.bias', 'classifier.weight']\n",
      "You should probably TRAIN this model on a down-stream task to be able to use it for predictions and inference.\n"
     ]
    }
   ],
   "source": [
    "model = AlbertForSequenceClassification.from_pretrained(model_name)  # num_labels=2 for binary classification"
   ]
  },
  {
   "cell_type": "code",
   "execution_count": 12,
   "id": "4cee7f36-a651-4b83-a4a8-ba6cbb455dba",
   "metadata": {},
   "outputs": [],
   "source": [
    "def delete_existing_log_files(logging_dir):\n",
    "    if os.path.exists(logging_dir):\n",
    "        for filename in os.listdir(logging_dir):\n",
    "            file_path = os.path.join(logging_dir, filename)\n",
    "            try:\n",
    "                if os.path.isfile(file_path) or os.path.islink(file_path):\n",
    "                    os.unlink(file_path)\n",
    "                elif os.path.isdir(file_path):\n",
    "                    os.rmdir(file_path)\n",
    "            except Exception as e:\n",
    "                print(f'Failed to delete {file_path}. Reason: {e}')"
   ]
  },
  {
   "cell_type": "code",
   "execution_count": 13,
   "id": "b89fac20-4058-4788-ae0a-41b196f9daeb",
   "metadata": {},
   "outputs": [],
   "source": [
    "from transformers import Trainer, TrainingArguments, EarlyStoppingCallback\n",
    "\n",
    "training_args = TrainingArguments(\n",
    "    output_dir='./outputs',\n",
    "    num_train_epochs=6,\n",
    "    per_device_train_batch_size=48,\n",
    "    per_device_eval_batch_size=32,\n",
    "    warmup_steps=100,\n",
    "    learning_rate=0.0001,\n",
    "    logging_dir='./logs',\n",
    "    logging_strategy='steps',\n",
    "    logging_steps=100,\n",
    "    evaluation_strategy='steps',\n",
    "    save_steps=200,\n",
    "    eval_steps=200,\n",
    "    load_best_model_at_end=True,\n",
    "    save_total_limit=2\n",
    ")\n",
    "\n",
    "trainer = Trainer(\n",
    "    model=model,\n",
    "    args=training_args,\n",
    "    train_dataset=train_dataset,\n",
    "    eval_dataset=val_dataset,\n",
    "    callbacks=[EarlyStoppingCallback(early_stopping_patience=3)],\n",
    ")"
   ]
  },
  {
   "cell_type": "code",
   "execution_count": 14,
   "id": "808ac3da-b7b5-4e90-9a08-1dd665e3704f",
   "metadata": {},
   "outputs": [],
   "source": [
    "delete_existing_log_files(training_args.logging_dir)"
   ]
  },
  {
   "cell_type": "code",
   "execution_count": 15,
   "id": "50ef639d-f068-4e86-b05a-2f844d6db46b",
   "metadata": {},
   "outputs": [
    {
     "data": {
      "text/html": [
       "\n",
       "    <div>\n",
       "      \n",
       "      <progress value='1200' max='1554' style='width:300px; height:20px; vertical-align: middle;'></progress>\n",
       "      [1200/1554 32:07 < 09:29, 0.62 it/s, Epoch 4/6]\n",
       "    </div>\n",
       "    <table border=\"1\" class=\"dataframe\">\n",
       "  <thead>\n",
       " <tr style=\"text-align: left;\">\n",
       "      <th>Step</th>\n",
       "      <th>Training Loss</th>\n",
       "      <th>Validation Loss</th>\n",
       "    </tr>\n",
       "  </thead>\n",
       "  <tbody>\n",
       "    <tr>\n",
       "      <td>200</td>\n",
       "      <td>0.553300</td>\n",
       "      <td>0.389867</td>\n",
       "    </tr>\n",
       "    <tr>\n",
       "      <td>400</td>\n",
       "      <td>0.362500</td>\n",
       "      <td>0.342587</td>\n",
       "    </tr>\n",
       "    <tr>\n",
       "      <td>600</td>\n",
       "      <td>0.288700</td>\n",
       "      <td>0.321689</td>\n",
       "    </tr>\n",
       "    <tr>\n",
       "      <td>800</td>\n",
       "      <td>0.222500</td>\n",
       "      <td>0.430422</td>\n",
       "    </tr>\n",
       "    <tr>\n",
       "      <td>1000</td>\n",
       "      <td>0.183300</td>\n",
       "      <td>0.395869</td>\n",
       "    </tr>\n",
       "    <tr>\n",
       "      <td>1200</td>\n",
       "      <td>0.129200</td>\n",
       "      <td>0.431629</td>\n",
       "    </tr>\n",
       "  </tbody>\n",
       "</table><p>"
      ],
      "text/plain": [
       "<IPython.core.display.HTML object>"
      ]
     },
     "metadata": {},
     "output_type": "display_data"
    },
    {
     "data": {
      "text/plain": [
       "TrainOutput(global_step=1200, training_loss=0.3110271485646566, metrics={'train_runtime': 1929.6211, 'train_samples_per_second': 38.579, 'train_steps_per_second': 0.805, 'total_flos': 144928917900000.0, 'train_loss': 0.3110271485646566, 'epoch': 4.633204633204633})"
      ]
     },
     "execution_count": 15,
     "metadata": {},
     "output_type": "execute_result"
    }
   ],
   "source": [
    "trainer.train()"
   ]
  },
  {
   "cell_type": "code",
   "execution_count": null,
   "id": "d25d85ce-f1a4-4eed-b42e-c6a4d27de552",
   "metadata": {},
   "outputs": [],
   "source": []
  },
  {
   "cell_type": "code",
   "execution_count": 16,
   "id": "41498631-c309-4fd9-af6c-935dac421088",
   "metadata": {},
   "outputs": [
    {
     "data": {
      "image/png": "[encoded data removed]",
      "text/plain": [
       "<Figure size 1000x600 with 1 Axes>"
      ]
     },
     "metadata": {},
     "output_type": "display_data"
    }
   ],
   "source": [
    "train_stats = trainer.state.log_history\n",
    "\n",
    "train_loss = [x['loss'] for x in train_stats if 'loss' in x]\n",
    "eval_loss = [x['eval_loss'] for x in train_stats if 'eval_loss' in x]\n",
    "\n",
    "train_steps = [x['step'] for x in train_stats if 'loss' in x]\n",
    "eval_steps = [x['step'] for x in train_stats if 'eval_loss' in x]\n",
    "\n",
    "plt.figure(figsize=(10, 6))\n",
    "plt.plot(train_steps, train_loss, label='Training Loss')\n",
    "plt.plot(eval_steps, eval_loss, label='Validation Loss')\n",
    "plt.xlabel('Steps')\n",
    "plt.ylabel('Loss')\n",
    "plt.legend()\n",
    "plt.title('Training and Validation Losses Over Steps')\n",
    "plt.show()"
   ]
  },
  {
   "cell_type": "code",
   "execution_count": 17,
   "id": "7c577376-2743-4377-ba11-59f7c9a5fd55",
   "metadata": {},
   "outputs": [
    {
     "data": {
      "text/html": [],
      "text/plain": [
       "<IPython.core.display.HTML object>"
      ]
     },
     "metadata": {},
     "output_type": "display_data"
    },
    {
     "name": "stdout",
     "output_type": "stream",
     "text": [
      "{'eval_loss': 0.32618919014930725, 'eval_runtime': 16.8859, 'eval_samples_per_second': 91.852, 'eval_steps_per_second': 2.902, 'epoch': 4.633204633204633}\n",
      "[1 0 0 ... 1 1 0]\n"
     ]
    }
   ],
   "source": [
    "# Evaluate the model\n",
    "eval_results = trainer.evaluate(test_dataset)\n",
    "\n",
    "# Print evaluation results\n",
    "print(eval_results)\n",
    "\n",
    "# Predict on new data\n",
    "predictions = trainer.predict(test_dataset)\n",
    "\n",
    "# The predictions are in logits. Convert them to class labels.\n",
    "predicted_labels = np.argmax(predictions.predictions, axis=1)\n",
    "\n",
    "print(predicted_labels)"
   ]
  },
  {
   "cell_type": "code",
   "execution_count": 18,
   "id": "3fe65dfb-35d3-48c4-8e3c-63354c99ab4f",
   "metadata": {},
   "outputs": [
    {
     "data": {
      "text/html": [
       "<div>\n",
       "<style scoped>\n",
       "    .dataframe tbody tr th:only-of-type {\n",
       "        vertical-align: middle;\n",
       "    }\n",
       "\n",
       "    .dataframe tbody tr th {\n",
       "        vertical-align: top;\n",
       "    }\n",
       "\n",
       "    .dataframe thead th {\n",
       "        text-align: right;\n",
       "    }\n",
       "</style>\n",
       "<table border=\"1\" class=\"dataframe\">\n",
       "  <thead>\n",
       "    <tr style=\"text-align: right;\">\n",
       "      <th></th>\n",
       "      <th>titles</th>\n",
       "      <th>Label</th>\n",
       "      <th>predictions</th>\n",
       "    </tr>\n",
       "  </thead>\n",
       "  <tbody>\n",
       "    <tr>\n",
       "      <th>11490</th>\n",
       "      <td>spiego nanni moretti piace millennials sol del...</td>\n",
       "      <td>0</td>\n",
       "      <td>1</td>\n",
       "    </tr>\n",
       "    <tr>\n",
       "      <th>6028</th>\n",
       "      <td>milano torture maltrattamenti tentata violenza...</td>\n",
       "      <td>0</td>\n",
       "      <td>0</td>\n",
       "    </tr>\n",
       "    <tr>\n",
       "      <th>13934</th>\n",
       "      <td>sinner gladiatore colosseo foto campione coppa...</td>\n",
       "      <td>0</td>\n",
       "      <td>0</td>\n",
       "    </tr>\n",
       "    <tr>\n",
       "      <th>5195</th>\n",
       "      <td>calciatori avversari pregano entrambi vincere ...</td>\n",
       "      <td>1</td>\n",
       "      <td>1</td>\n",
       "    </tr>\n",
       "    <tr>\n",
       "      <th>10098</th>\n",
       "      <td>grecia parlamento legalizza matrimoni adozioni...</td>\n",
       "      <td>0</td>\n",
       "      <td>1</td>\n",
       "    </tr>\n",
       "  </tbody>\n",
       "</table>\n",
       "</div>"
      ],
      "text/plain": [
       "                                                  titles  Label  predictions\n",
       "11490  spiego nanni moretti piace millennials sol del...      0            1\n",
       "6028   milano torture maltrattamenti tentata violenza...      0            0\n",
       "13934  sinner gladiatore colosseo foto campione coppa...      0            0\n",
       "5195   calciatori avversari pregano entrambi vincere ...      1            1\n",
       "10098  grecia parlamento legalizza matrimoni adozioni...      0            1"
      ]
     },
     "execution_count": 18,
     "metadata": {},
     "output_type": "execute_result"
    }
   ],
   "source": [
    "df_pred = pd.DataFrame({\n",
    "    'titles': test_texts,\n",
    "    'Label': test_labels\n",
    "})\n",
    "\n",
    "df_pred['predictions'] = predicted_labels\n",
    "\n",
    "df_pred.head()"
   ]
  },
  {
   "cell_type": "code",
   "execution_count": 19,
   "id": "70ba5d31-1cd4-4be9-802d-2e69ac94b2c1",
   "metadata": {},
   "outputs": [],
   "source": [
    "from sklearn.metrics import accuracy_score, f1_score, precision_score, recall_score\n",
    "\n",
    "def evaluate_predictions(df):\n",
    "    errors = df[df['Label'] != df['predictions']]\n",
    "    num_errors = len(errors)\n",
    "    \n",
    "    print(f\"\\nNumber of errors: {num_errors}\\n\")\n",
    "    \n",
    "    accuracy = accuracy_score(df['Label'], df['predictions'])\n",
    "    f1 = f1_score(df['Label'], df['predictions'])\n",
    "    precision = precision_score(df['Label'], df['predictions'])\n",
    "    recall = recall_score(df['Label'], df['predictions'])\n",
    "\n",
    "    print(f\"Accuracy: {accuracy}\")\n",
    "    print(f\"F1 Score: {f1}\")\n",
    "    print(f\"Precision: {precision}\")\n",
    "    print(f\"Recall: {recall}\\n\")\n",
    "\n",
    "    print(\"Misclassified titles:\\n\")\n",
    "    for index, row in errors.iterrows():\n",
    "        label = \"sarcastic\" if row['Label'] == 1 else \"not sarcastic\"\n",
    "        prediction = \"sarcastic\" if row['predictions'] == 1 else \"not sarcastic\"\n",
    "        print(f\"Title: {row['titles']}, Label: {label}, Prediction: {prediction}\")"
   ]
  },
  {
   "cell_type": "code",
   "execution_count": 20,
   "id": "604b3aa6-38f8-4d89-a4ec-8b6cddb27e7f",
   "metadata": {},
   "outputs": [
    {
     "name": "stdout",
     "output_type": "stream",
     "text": [
      "\n",
      "Number of errors: 207\n",
      "\n",
      "Accuracy: 0.8665377176015474\n",
      "F1 Score: 0.8270676691729323\n",
      "Precision: 0.7996768982229402\n",
      "Recall: 0.856401384083045\n",
      "\n",
      "Misclassified titles:\n",
      "\n",
      "Title: spiego nanni moretti piace millennials sol dellavvenire ultimo film, Label: not sarcastic, Prediction: sarcastic\n",
      "Title: grecia parlamento legalizza matrimoni adozioni coppie omosessuali, Label: not sarcastic, Prediction: sarcastic\n",
      "Title: lagenzia comunicazione dolci festeggia sessantanni attività, Label: not sarcastic, Prediction: sarcastic\n",
      "Title: festival sanremo funziona voto quinta ultima serata, Label: not sarcastic, Prediction: sarcastic\n",
      "Title: sanzioni ue smentisce mosca crescita economica russia esiste solo carta, Label: not sarcastic, Prediction: sarcastic\n",
      "Title: milano studente laurea medicina tesi titolo processi berlusconi, Label: sarcastic, Prediction: not sarcastic\n",
      "Title: decreto energia fine regime tutelato verso mercato libero slitta mesi anno, Label: not sarcastic, Prediction: sarcastic\n",
      "Title: donald trump cercando rubarci elezioni vogliamo rubare, Label: sarcastic, Prediction: not sarcastic\n",
      "Title: calcio lecco multe giocatori andranno beneficenza sostegno don guanella, Label: not sarcastic, Prediction: sarcastic\n",
      "Title: centinaia auto bloccate neve freddo svezia servono acqua cibo, Label: not sarcastic, Prediction: sarcastic\n",
      "Title: addormentato lavoro saltato via crucis dio avvia procedimento disciplinare papa, Label: sarcastic, Prediction: not sarcastic\n",
      "Title: pronostico conte me meloni voterà pd renzi forza italia, Label: not sarcastic, Prediction: sarcastic\n",
      "Title: potrebbe essere vita costellazione orione trovati ghiaccio molecole organiche, Label: not sarcastic, Prediction: sarcastic\n",
      "Title: telepathy primo microchip neuralink trapiantato essere umano musk risultati promettenti, Label: not sarcastic, Prediction: sarcastic\n",
      "Title: fabrizio corona parte combattere ucraina arrende allautista flixbus kiev, Label: sarcastic, Prediction: not sarcastic\n",
      "Title: fan afterhours coma sente manuel agnelli risveglia poi vede x factor muore, Label: sarcastic, Prediction: not sarcastic\n",
      "Title: coronavirus italia lenigma paziente zero, Label: not sarcastic, Prediction: sarcastic\n",
      "Title: devi morire mafioso co ministro salvini riceve minacce morte annuncia querela, Label: not sarcastic, Prediction: sarcastic\n",
      "Title: cherif traoré torna banana regalata razzismo bisogna reagire dare lesempio, Label: not sarcastic, Prediction: sarcastic\n",
      "Title: rigopiano condanne salgono 8 22 assoluzioni disastro colposo, Label: not sarcastic, Prediction: sarcastic\n",
      "Title: cade terzo piano scuola grave 14enne ancona, Label: not sarcastic, Prediction: sarcastic\n",
      "Title: stalker travestiva clown terrorizzare ragazza torino, Label: not sarcastic, Prediction: sarcastic\n",
      "Title: napoli locali scambisti dettano nuova policy ammesse solo mascherine osimhen, Label: sarcastic, Prediction: not sarcastic\n",
      "Title: emanuele filiberto savoia leredità padre sento nuovo capofamiglia, Label: not sarcastic, Prediction: sarcastic\n",
      "Title: fazio cacciato sanremo daniele luttazzi nuovo conduttore, Label: sarcastic, Prediction: not sarcastic\n",
      "Title: barbero tv condurrà prima volta programma interamente parlerà democrazie dittature, Label: not sarcastic, Prediction: sarcastic\n",
      "Title: bruxelles sparatoria vie shopping quattro feriti, Label: not sarcastic, Prediction: sarcastic\n",
      "Title: video militare usa ucciso poliziotto appena apre porta casa florida, Label: not sarcastic, Prediction: sarcastic\n",
      "Title: usa maxitruffa cateteri potrebbe costare 2 miliardi dollari sistema sanitario, Label: not sarcastic, Prediction: sarcastic\n",
      "Title: luce artificiale serale smartphone studio rischi salute, Label: not sarcastic, Prediction: sarcastic\n",
      "Title: via damelio giorgia meloni spiega andrà fiaccolata paolo borsellino, Label: not sarcastic, Prediction: sarcastic\n",
      "Title: toninelli sì governo draghi patto presidente consiglio conte, Label: sarcastic, Prediction: not sarcastic\n",
      "Title: barbara durso ospita studio federica panicucci insieme danno origine supernova, Label: sarcastic, Prediction: not sarcastic\n",
      "Title: stramba storia fetta salame diventata fotografia spaziale, Label: not sarcastic, Prediction: sarcastic\n",
      "Title: mondiali 2026 litalia qualifica nemmeno qualificazioni, Label: sarcastic, Prediction: not sarcastic\n",
      "Title: red ronnie evoca kurt cobain durante seduta spiritica spara nuovo, Label: sarcastic, Prediction: not sarcastic\n",
      "Title: puglia dopo polemiche costi affidato bartolini rientro salma padre pio, Label: sarcastic, Prediction: not sarcastic\n",
      "Title: abusi chierichetti papa don martinelli condannato vaticano sentenza storica, Label: not sarcastic, Prediction: sarcastic\n",
      "Title: ottana nuoro bomba esplode davanti comune gravi danni facciata uffici, Label: not sarcastic, Prediction: sarcastic\n",
      "Title: sveglia lunedì mattina gatto addormentato addosso uomo estratto letto dopo 18 ore, Label: sarcastic, Prediction: not sarcastic\n",
      "Title: sicilia gruppo ragazzi picchia cane prova seppellirlo mentre fin vita, Label: not sarcastic, Prediction: sarcastic\n",
      "Title: beautiful brooke giraffa marius ammazzata davanti bambino causa dellincesto, Label: sarcastic, Prediction: not sarcastic\n",
      "Title: gaza netanyahu ancora visto quando risponderemo allattentato 7 ottobre, Label: sarcastic, Prediction: not sarcastic\n",
      "Title: taxi gratis alluscita discoteche via sperimentazione locali, Label: not sarcastic, Prediction: sarcastic\n",
      "Title: premierato cosa manca renzi appoggiare riforma costituzionale governo meloni, Label: not sarcastic, Prediction: sarcastic\n",
      "Title: studio vaccini mrna miocardite ispirato no vax sbagliato, Label: not sarcastic, Prediction: sarcastic\n",
      "Title: inchiesta genova nuovo fascicolo abuso dufficio han dato barcata soldi, Label: not sarcastic, Prediction: sarcastic\n",
      "Title: lennesimo scontro santoro annunziata urne collegio sud, Label: not sarcastic, Prediction: sarcastic\n",
      "Title: zitta paziente parlava durante seduta morelli denunciato albo psichiatri, Label: sarcastic, Prediction: not sarcastic\n",
      "Title: distrutta incidente lauto pichetto fratin ferito portavoce nulla grave, Label: not sarcastic, Prediction: sarcastic\n",
      "Title: incidenti domestici prima causa morte complottista rifiuta casa regalo, Label: sarcastic, Prediction: not sarcastic\n",
      "Title: matteo salvini rimane bloccato ascensore dieci minuti salvi 42 migranti, Label: sarcastic, Prediction: not sarcastic\n",
      "Title: jorit selfie putin loccidente snob giustifica limperialismo guerra, Label: not sarcastic, Prediction: sarcastic\n",
      "Title: lorgoglio cittadinanza spettro dellodio ritorna 900 ebrei italiani mostra, Label: not sarcastic, Prediction: sarcastic\n",
      "Title: armi facili scarso accesso cure mentali america avvengono ancora stragi, Label: not sarcastic, Prediction: sarcastic\n",
      "Title: volto gesu compare costa concordia fermata smantellamento, Label: sarcastic, Prediction: not sarcastic\n",
      "Title: coronavirus runner corre compagnia runtastic fa spia immuni, Label: sarcastic, Prediction: not sarcastic\n",
      "Title: mar morto trovati manoscritti battuta ancora fatta pioamedeo, Label: sarcastic, Prediction: not sarcastic\n",
      "Title: cartello shock ristorante davos affittiamo slittini ebrei protesta comunità ebraica, Label: not sarcastic, Prediction: sarcastic\n",
      "Title: zaia scarica vannacci votarlo no sentirei peccatore risposta generale, Label: not sarcastic, Prediction: sarcastic\n",
      "Title: lingegnere raccolto 8 mila euro andare studiare nasa, Label: not sarcastic, Prediction: sarcastic\n",
      "Title: comunità indigena querétaro sogno dellindipendenza juliana lavoro tessile emancipazione, Label: not sarcastic, Prediction: sarcastic\n",
      "Title: sparo capodanno deputato pozzolo presenta 70 querele, Label: not sarcastic, Prediction: sarcastic\n",
      "Title: regalo banca deputati tasso interesse monstre soldi conto corrente, Label: not sarcastic, Prediction: sarcastic\n",
      "Title: smarrito filtro giallo ocra sospesa serie tv ambientata messico, Label: sarcastic, Prediction: not sarcastic\n",
      "Title: baby gang iniziato sciopero fame carcere lecco, Label: not sarcastic, Prediction: sarcastic\n",
      "Title: corrado augias sostituirà cassano bobo tv, Label: sarcastic, Prediction: not sarcastic\n",
      "Title: milano studente ingegneria viene messo isolamento migliora vita sociale, Label: sarcastic, Prediction: not sarcastic\n",
      "Title: ustica stefania craxi amato indignata falso storico padre avvisò gheddafi 1986, Label: not sarcastic, Prediction: sarcastic\n",
      "Title: chiavari malore lautista scuolabus dopo aver lasciato studenti inutili soccorsi, Label: not sarcastic, Prediction: sarcastic\n",
      "Title: antivax protagonista rain man stato vaccinato big pharma fatto tagliare scena, Label: sarcastic, Prediction: not sarcastic\n",
      "Title: vendita milan procura milano apre uninchiesta appropriazione indebita, Label: not sarcastic, Prediction: sarcastic\n",
      "Title: lazio batte sassuolo regala ancora scudetto napoli, Label: not sarcastic, Prediction: sarcastic\n",
      "Title: pensavo pagando altri milioni conor mcgregor spiega aggressioni, Label: sarcastic, Prediction: not sarcastic\n",
      "Title: bianca berlinguer passo rete 4 voglio tecnico luci palombelli, Label: sarcastic, Prediction: not sarcastic\n",
      "Title: revenge porn emendamento lega reato pubblicare foto dellex testi gio evan, Label: sarcastic, Prediction: not sarcastic\n",
      "Title: matematico elabora equazione 47 variabili spiega cosa cazzo vuole renzi, Label: sarcastic, Prediction: not sarcastic\n",
      "Title: renzi arriva ritardo funerale napolitano evita posto fra enrico letta giuseppe conte, Label: not sarcastic, Prediction: sarcastic\n",
      "Title: fiorella mannoia cambium finale canzone diremo ancora altrono, Label: not sarcastic, Prediction: sarcastic\n",
      "Title: carcere genitori mandano scuola figli decreto caivano offre scappatoia istruirli casa, Label: not sarcastic, Prediction: sarcastic\n",
      "Title: ecologista ultima generazione diventa agricoltore bloccare strade lappoggio salvini, Label: sarcastic, Prediction: not sarcastic\n",
      "Title: crosetto qui pro quo vannacci presentato me senza divisa spiegato sbagliava, Label: not sarcastic, Prediction: sarcastic\n",
      "Title: sofia goggia vince discesa st moritz mano rotta, Label: not sarcastic, Prediction: sarcastic\n",
      "Title: netanyahu operato dernia compensare israele troverà dieci palestinesi farla venire, Label: sarcastic, Prediction: not sarcastic\n",
      "Title: fa chiamare macron sibilia giuseppe conte unora telefono signor marcon treviso, Label: sarcastic, Prediction: not sarcastic\n",
      "Title: scuole senza luce acqua gas carta renzi chiarisce sicurezza studenti, Label: sarcastic, Prediction: not sarcastic\n",
      "Title: betlemme natale via decorazioni onore martiri solidarietà popolo gaza, Label: not sarcastic, Prediction: sarcastic\n",
      "Title: pronta uexit stati tranne regno unito usciranno dallunione europea, Label: sarcastic, Prediction: not sarcastic\n",
      "Title: velletri neonato morto circoncisione abusiva condannate tre donne, Label: not sarcastic, Prediction: sarcastic\n",
      "Title: folla fluido matematica spiega gestire panico, Label: not sarcastic, Prediction: sarcastic\n",
      "Title: trevignano fa gioco tre carte centro viene acclamato nuovo messia, Label: sarcastic, Prediction: not sarcastic\n",
      "Title: fava allinps dascenzo allinail governo sblocca nomine congelate giugno, Label: not sarcastic, Prediction: sarcastic\n",
      "Title: rai3 bianca berlinguer sostituisce lucia annunziata puntata ½ h dura 4 ore mezza, Label: sarcastic, Prediction: not sarcastic\n",
      "Title: fabrizio corona parte combattere ucraina arrende allautista flixbus kiev, Label: sarcastic, Prediction: not sarcastic\n",
      "Title: pronta uexit stati tranne regno unito usciranno dallunione europea, Label: sarcastic, Prediction: not sarcastic\n",
      "Title: macerata ragazzo spara 6 razzisti anziano spara 6 ragazzi dirigente inps spara 6 anziani, Label: sarcastic, Prediction: not sarcastic\n",
      "Title: andrea agnelli compiuto 214 anni 47 senza plusvalenze, Label: sarcastic, Prediction: not sarcastic\n",
      "Title: alfasigma contest concorso giornalisti futuro, Label: not sarcastic, Prediction: sarcastic\n",
      "Title: flop mercante fiera giorgia meloni aiuto pino insegno gatta nera, Label: sarcastic, Prediction: not sarcastic\n",
      "Title: drone rivela oltre 100 balene prigioni sottomarine segrete, Label: not sarcastic, Prediction: sarcastic\n",
      "Title: scandalo forze armate usa rambo incriminato porto darmi abusivo, Label: sarcastic, Prediction: not sarcastic\n",
      "Title: ritrovano cadavere dipendente mcdonalds dopo 14 anni corpo senza segno decomposizione, Label: sarcastic, Prediction: not sarcastic\n",
      "Title: aspartame possibile cancerogeno ecco dobbiamo evitare lallarmismo, Label: not sarcastic, Prediction: sarcastic\n",
      "Title: pisa comune commissiona copia riserva torre sostituire caso crollo, Label: sarcastic, Prediction: not sarcastic\n",
      "Title: violazione concordato bambino ferma molestia prete, Label: sarcastic, Prediction: not sarcastic\n",
      "Title: linkin park annunciano brano inedito voce chester bennington, Label: not sarcastic, Prediction: sarcastic\n",
      "Title: nuova vita salman rushdie dopo lattentato salvato miracolo credo, Label: not sarcastic, Prediction: sarcastic\n",
      "Title: simulazione spiega loceano sotterraneo plutone, Label: not sarcastic, Prediction: sarcastic\n",
      "Title: viva rai 2 nuova bega fiorello dehor trasmettendo abusivo, Label: not sarcastic, Prediction: sarcastic\n",
      "Title: confusione pfizer tempo richiamo aspettare prima dose problema, Label: not sarcastic, Prediction: sarcastic\n",
      "Title: paolo sorrentino tampona qualcuno ingaggia toni servillo falso testimone, Label: sarcastic, Prediction: not sarcastic\n",
      "Title: pensati libero chiara unica ilary meme sdrammatizzano rottura ferragnez, Label: not sarcastic, Prediction: sarcastic\n",
      "Title: cisgiordania israele nega apartheid palestinesi trattati qualsiasi altro animale, Label: sarcastic, Prediction: not sarcastic\n",
      "Title: roman kostomarov campione russo pattinaggio subito lamputazione piedi, Label: not sarcastic, Prediction: sarcastic\n",
      "Title: valentino rossi segreto quando corro penso sempre finanza insegua, Label: sarcastic, Prediction: not sarcastic\n",
      "Title: regina fa mazzo mentre re fa cazzo femministe scacchi, Label: sarcastic, Prediction: not sarcastic\n",
      "Title: appello schlein allunità centrosinistra rischiamo ritrovarci destra governo, Label: sarcastic, Prediction: not sarcastic\n",
      "Title: geolier chiude concertone primo maggio lannuncio sorpresa, Label: not sarcastic, Prediction: sarcastic\n",
      "Title: giusy versace vita biamputata loperazione due gambe finte voglio tirare freno mano, Label: not sarcastic, Prediction: sarcastic\n",
      "Title: stati uniti sparatoria manifestazione vittime sparatoria manifestazione vittime sparatoria manifestazione vittime, Label: sarcastic, Prediction: not sarcastic\n",
      "Title: sassari commessa picchia rapinatore mette fuga, Label: not sarcastic, Prediction: sarcastic\n",
      "Title: anzio ladro seriale preso coltellate giovani giustizieri, Label: not sarcastic, Prediction: sarcastic\n",
      "Title: omid scobie giovane giornalista segue royal family allertato kate pomeriggio, Label: not sarcastic, Prediction: sarcastic\n",
      "Title: vittorio emanuele iii trovato laccordo salma sepolta italia miniatura, Label: sarcastic, Prediction: not sarcastic\n",
      "Title: tampon tax congedi educazione punto giustizia mestruale europa, Label: not sarcastic, Prediction: sarcastic\n",
      "Title: napoli via circolazione targhe alterne giorno vere giorno false, Label: sarcastic, Prediction: not sarcastic\n",
      "Title: jorit sospetta regia dietro attacchi dopo selfie putin me immaginavo freddo, Label: not sarcastic, Prediction: sarcastic\n",
      "Title: ministro lollobrigida fatto fermare treno mezzora ritardo, Label: not sarcastic, Prediction: sarcastic\n",
      "Title: morto curtis gatto commosso web rara malattia genetica sola vita, Label: sarcastic, Prediction: not sarcastic\n",
      "Title: meloni raddoppia stanziamento aiuti militari allucraina così comici russi imparano, Label: sarcastic, Prediction: not sarcastic\n",
      "Title: addormentato lavoro saltato via crucis dio avvia procedimento disciplinare papa, Label: sarcastic, Prediction: not sarcastic\n",
      "Title: monito blinken israele licenza disumanizzare altri, Label: not sarcastic, Prediction: sarcastic\n",
      "Title: giorgia meloni summit natalità ungheria ciò definisce sotto attacco, Label: not sarcastic, Prediction: sarcastic\n",
      "Title: vaiolo scimmie dovete sapere, Label: not sarcastic, Prediction: sarcastic\n",
      "Title: minacce ciro immobile famiglia davanti bimbo 4 anni presentata denuncia, Label: not sarcastic, Prediction: sarcastic\n",
      "Title: ecco superato trauma parla trans corteggiata vannacci, Label: sarcastic, Prediction: not sarcastic\n",
      "Title: renzi conte uomo senza dignità stampella meloni, Label: not sarcastic, Prediction: sarcastic\n",
      "Title: continuum lanno doro dellitalia prima classifica morti lavoro, Label: sarcastic, Prediction: not sarcastic\n",
      "Title: arabia saudita offerto contratto 10 milioni allanno magazziniere salernitana, Label: sarcastic, Prediction: not sarcastic\n",
      "Title: sento nitidamente voce cuffia mario giordano devasta studio mediaset, Label: sarcastic, Prediction: not sarcastic\n",
      "Title: scienziati catturano prima volta limmagine buco nero, Label: not sarcastic, Prediction: sarcastic\n",
      "Title: parla padre cavani figlio vuole solo casertana, Label: sarcastic, Prediction: not sarcastic\n",
      "Title: rom centenaria trova ladri dentro casa mette fuga, Label: not sarcastic, Prediction: sarcastic\n",
      "Title: telescopio ripreso prima volta formazione dellatmosfera giovane pianeta, Label: not sarcastic, Prediction: sarcastic\n",
      "Title: rishi sunak neoepurata paola concia ospiti atreju 2023, Label: not sarcastic, Prediction: sarcastic\n",
      "Title: silvio berlusconi assolto tribunale forum, Label: sarcastic, Prediction: not sarcastic\n",
      "Title: rai morire discovery terzo polo tv nascendo, Label: not sarcastic, Prediction: sarcastic\n",
      "Title: olimpiadi parigi ladro restituisce borsa dentro piano sicurezza migliore, Label: sarcastic, Prediction: not sarcastic\n",
      "Title: trentino femministe chiedono labbattimento delluomo catturato mentre aggirava boschi, Label: sarcastic, Prediction: not sarcastic\n",
      "Title: università pisa segreteria studenti risponde studente, Label: sarcastic, Prediction: not sarcastic\n",
      "Title: fine codacons chiede scusa fedez volevamo accusarlo evasione fiscale, Label: not sarcastic, Prediction: sarcastic\n",
      "Title: partita cuore pecchini lancia superlega nazionali cantanti italia turchia iran arabia saudita, Label: sarcastic, Prediction: not sarcastic\n",
      "Title: finti giornalisti video deepfake nuove armi macchina disinformazione cremlino, Label: not sarcastic, Prediction: sarcastic\n",
      "Title: governo finanzia manovra 34 miliardi euro persi italiani fessure divani, Label: sarcastic, Prediction: not sarcastic\n",
      "Title: covid studio rivela contagio val seriana stato favorito geni delluomo neanderthal, Label: not sarcastic, Prediction: sarcastic\n",
      "Title: nascita delluniverso esopianeti nobel fisica queloz mayor peebles, Label: not sarcastic, Prediction: sarcastic\n",
      "Title: coronavirus mondo cinema protesterà piazza oggi 1830 2030 2230, Label: sarcastic, Prediction: not sarcastic\n",
      "Title: giorgia meloni vinciamo elezioni via larabica caffè, Label: sarcastic, Prediction: not sarcastic\n",
      "Title: bari infarto mentre chiacchiera suocero salvato giletdefibrillatore, Label: not sarcastic, Prediction: sarcastic\n",
      "Title: appetibili quindi pericolose usa vogliono mettere bando sigarette mentolo, Label: not sarcastic, Prediction: sarcastic\n",
      "Title: classe liceo made italy sorteggio preside ripensa senza volontari parte, Label: not sarcastic, Prediction: sarcastic\n",
      "Title: chiara ferragni alcuna relazione tomaso trussardi, Label: not sarcastic, Prediction: sarcastic\n",
      "Title: onu lappello mattarella evitare operazioni rafah riprendere finanziamenti allunrwa, Label: not sarcastic, Prediction: sarcastic\n",
      "Title: elezioni svizzera destra conservatrice primo partito proiezioni danno 289, Label: not sarcastic, Prediction: sarcastic\n",
      "Title: sondaggi ipsos governo centrodestra calo male pd stabile m5s, Label: not sarcastic, Prediction: sarcastic\n",
      "Title: king marracash primo rapper protagonista tour stadi, Label: not sarcastic, Prediction: sarcastic\n",
      "Title: italia vista laurora boreale soprattutto vedremo ancora cieli, Label: not sarcastic, Prediction: sarcastic\n",
      "Title: ecco nuova bibbia gender adamo gay eva lesbica caino adottato abele nato provetta, Label: sarcastic, Prediction: not sarcastic\n",
      "Title: caso visibilia governo fa quadrato attorno ministra santanchè, Label: not sarcastic, Prediction: sarcastic\n",
      "Title: figli darte lennonmccartney insieme singolo primrose hill, Label: not sarcastic, Prediction: sarcastic\n",
      "Title: servizi segreti vanno tilt ricompare marina ovsyannikova scompare nuovo tennista cinese, Label: sarcastic, Prediction: not sarcastic\n",
      "Title: figc dopo sentenza juve minacce insulti procuratore chiné presidente gravina, Label: not sarcastic, Prediction: sarcastic\n",
      "Title: trump riesce pagare fidejussione 464 milioni dollari frode rifiutato tutte compagnie assicurative, Label: not sarcastic, Prediction: sarcastic\n",
      "Title: spagna confermata chiusura tutte centrali nucleari entro 2035, Label: not sarcastic, Prediction: sarcastic\n",
      "Title: tennis nicola pietrangeli comunque sinner riuscirà mai trombare licia colò, Label: sarcastic, Prediction: not sarcastic\n",
      "Title: usa richiamo registrazione marito russa donna cattura godzilla, Label: sarcastic, Prediction: not sarcastic\n",
      "Title: rom blitz polizia francese senato controllare urine tony iwobi, Label: sarcastic, Prediction: not sarcastic\n",
      "Title: hasan hamis cittadino marocchino accoltellato poliziotto stazione lambrate milano, Label: not sarcastic, Prediction: sarcastic\n",
      "Title: renzi festeggia enews n 900 attacca fdi imbarazzo passerella organizzata caivano meloni, Label: not sarcastic, Prediction: sarcastic\n",
      "Title: ministro valditara prof presidi 1500 euro tantum dicembre, Label: not sarcastic, Prediction: sarcastic\n",
      "Title: ospedale niguarda apre primo reparto riservato uomini febbre 37, Label: sarcastic, Prediction: not sarcastic\n",
      "Title: lediting genetico neutralizzare lhiv sempre punto terapia sperimentata topi, Label: not sarcastic, Prediction: sarcastic\n",
      "Title: rom basta tablet gioca allaperto bambina ubbidisce prende colera, Label: sarcastic, Prediction: not sarcastic\n",
      "Title: russia dissidente condannato 20 anni carcere potrà convertirli due pillole cianuro, Label: sarcastic, Prediction: not sarcastic\n",
      "Title: terremoto toscana scossa magnitudo 34 poggibonsi, Label: not sarcastic, Prediction: sarcastic\n",
      "Title: i lascia brusaferro posto bellantone parente lontana sottosegretario fazzolari, Label: not sarcastic, Prediction: sarcastic\n",
      "Title: generazione no kid coppie vogliono avere figli istinto materno soldi centrano, Label: not sarcastic, Prediction: sarcastic\n",
      "Title: compravendita milan perquisizioni sequestri sedi holding elliott lussemburgo, Label: not sarcastic, Prediction: sarcastic\n",
      "Title: formia due rider aggrediti colleghi troppo veloci rubate lavoro, Label: not sarcastic, Prediction: sarcastic\n",
      "Title: giorgia meloni laccordo lalbania può diventare modello paesi, Label: not sarcastic, Prediction: sarcastic\n",
      "Title: scoop fiorello sanremo 2025 presenterà personaggio rai, Label: not sarcastic, Prediction: sarcastic\n",
      "Title: dossieraggio magistrato cantone sotto sorveglianza pg sottani censura, Label: not sarcastic, Prediction: sarcastic\n",
      "Title: tifosi rom dopo lettera zaniolo striscione conferma gelo foto, Label: not sarcastic, Prediction: sarcastic\n",
      "Title: festival sanremo spotify geolier artisti ascoltati, Label: not sarcastic, Prediction: sarcastic\n",
      "Title: adele confessione shock concerto stata alcolista anni bevevo durante lockdown, Label: not sarcastic, Prediction: sarcastic\n",
      "Title: fa disegnare immigrati piattelli leghista vince titolo olimpico tiro volo, Label: sarcastic, Prediction: not sarcastic\n",
      "Title: gomito tennista khaby lame rischio prossimi 200 video, Label: sarcastic, Prediction: not sarcastic\n",
      "Title: piero pelù guarito ritorno dopo depressione shock acustico mancati, Label: not sarcastic, Prediction: sarcastic\n",
      "Title: potete continuare mangiare cibo cinese evitare panico coronavirus, Label: not sarcastic, Prediction: sarcastic\n",
      "Title: maeh giorgia meloni fa nuovo video lingua klingon rassicurare stampa aliena, Label: sarcastic, Prediction: not sarcastic\n",
      "Title: biden dato fottuto malato mente trump solo, Label: not sarcastic, Prediction: sarcastic\n",
      "Title: mappa tridimensionale marte funziona google earth provarla, Label: not sarcastic, Prediction: sarcastic\n",
      "Title: londra fabrizio corona fermato accusato cannibalismo, Label: sarcastic, Prediction: not sarcastic\n",
      "Title: damato lascia pd aderisce azione calenda presto altri arrivi, Label: not sarcastic, Prediction: sarcastic\n",
      "Title: montalbano v don matteo episodio 2 justice league of spoleto record cammeo papa, Label: sarcastic, Prediction: not sarcastic\n",
      "Title: revenge porn emendamento lega reato pubblicare foto dellex testi gio evan, Label: sarcastic, Prediction: not sarcastic\n",
      "Title: propaganda novax infetta risultati ricerca facebook youtube, Label: not sarcastic, Prediction: sarcastic\n"
     ]
    }
   ],
   "source": [
    "evaluate_predictions(df_pred)"
   ]
  },
  {
   "cell_type": "code",
   "execution_count": 99,
   "id": "b96670b9-5937-4cea-b92b-f99e5a644782",
   "metadata": {},
   "outputs": [
    {
     "data": {
      "image/png": "[encoded data removed]",
      "text/plain": [
       "<Figure size 800x600 with 1 Axes>"
      ]
     },
     "metadata": {},
     "output_type": "display_data"
    }
   ],
   "source": [
    "from sklearn.metrics import confusion_matrix\n",
    "import seaborn as sns\n",
    "\n",
    "true_labels = df_pred['Label']\n",
    "predicted_labels = df_pred['predictions']\n",
    "\n",
    "conf_matrix = confusion_matrix(true_labels, predicted_labels)\n",
    "\n",
    "plt.figure(figsize=(8, 6))\n",
    "sns.heatmap(conf_matrix, annot=True, fmt='d', cmap='Blues', cbar=False)\n",
    "plt.xlabel('Predicted Labels')\n",
    "plt.ylabel('True Labels')\n",
    "plt.title('Confusion Matrix')\n",
    "plt.show()"
   ]
  },
  {
   "cell_type": "code",
   "execution_count": 100,
   "id": "ee35b774-5ee5-476c-9c4d-a302e7c00e90",
   "metadata": {},
   "outputs": [
    {
     "data": {
      "image/png": "[encoded data removed]",
      "text/plain": [
       "<Figure size 800x600 with 1 Axes>"
      ]
     },
     "metadata": {},
     "output_type": "display_data"
    }
   ],
   "source": [
    "from sklearn.metrics import confusion_matrix\n",
    "import seaborn as sns\n",
    "\n",
    "true_labels = df_pred['Label']\n",
    "predicted_labels = df_pred['predictions']\n",
    "\n",
    "conf_matrix = confusion_matrix(true_labels, predicted_labels)\n",
    "\n",
    "plt.figure(figsize=(8, 6))\n",
    "sns.heatmap(conf_matrix, annot=True, fmt='d', cmap='Blues', cbar=False)\n",
    "plt.xlabel('Predicted Labels')\n",
    "plt.ylabel('True Labels')\n",
    "plt.title('Confusion Matrix')\n",
    "plt.show()"
   ]
  },
  {
   "cell_type": "code",
   "execution_count": 101,
   "id": "28df3437-49d4-491d-b636-0ec411dc090b",
   "metadata": {},
   "outputs": [
    {
     "data": {
      "image/png": "[encoded data removed]",
      "text/plain": [
       "<Figure size 800x600 with 1 Axes>"
      ]
     },
     "metadata": {},
     "output_type": "display_data"
    }
   ],
   "source": [
    "from sklearn.calibration import calibration_curve\n",
    "\n",
    "prob_true, prob_pred = calibration_curve(true_labels, predicted_labels, n_bins=10)\n",
    "\n",
    "plt.figure(figsize=(8, 6))\n",
    "plt.plot(prob_pred, prob_true, marker='o', label='Calibration Curve', color='blue')\n",
    "plt.plot([0, 1], [0, 1], linestyle='--', color='gray')\n",
    "plt.xlabel('Predicted Probability')\n",
    "plt.ylabel('True Probability')\n",
    "plt.title('Calibration Curve')\n",
    "plt.legend(loc='lower right')\n",
    "plt.show()"
   ]
  },
  {
   "cell_type": "code",
   "execution_count": null,
   "id": "bd24c7ac-6dcc-4461-8a31-a90848ef7ad4",
   "metadata": {},
   "outputs": [],
   "source": []
  }
 ],
 "metadata": {
  "kernelspec": {
   "display_name": "Python 3 (ipykernel)",
   "language": "python",
   "name": "python3"
  },
  "language_info": {
   "codemirror_mode": {
    "name": "ipython",
    "version": 3
   },
   "file_extension": ".py",
   "mimetype": "text/x-python",
   "name": "python",
   "nbconvert_exporter": "python",
   "pygments_lexer": "ipython3",
   "version": "3.11.6"
  }
 },
 "nbformat": 4,
 "nbformat_minor": 5
}
